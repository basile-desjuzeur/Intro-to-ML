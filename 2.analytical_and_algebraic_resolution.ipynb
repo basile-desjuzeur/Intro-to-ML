{
 "cells": [
  {
   "cell_type": "markdown",
   "id": "3e8955f1",
   "metadata": {},
   "source": [
    "# Résolution de la régression linéaire\n",
    "\n",
    "On rappelle que l'on a un jeu de données avec des mesures de circonférence et de hauteur pour plusieurs arbres.\n",
    "\n",
    "$$ \\{(x_1, y_1), (x_2, y_2), ..., (x_n, y_n)\\} $$\n",
    "\n",
    "Que l'on modélise par une droite :\n",
    "$$\n",
    "\\text{hauteur} = \\text{a} \\cdot \\text{circonférence} + \\text{b}\n",
    "$$\n",
    "\n",
    "Pour trouver la meilleure droite, on cherche à minimiser **la fonction d'erreur J**, ici on choisit la **Root Mean Squared Error (RMSE)** qui mesure l'erreur moyenne entre les vraies valeurs yᵢ et les valeurs prédites ŷᵢ par le modèle en pénalisant les grandes erreurs (grâce au carré).\n",
    "$$\n",
    "\\text{J(a, b)} = \\sqrt{\\frac{1}{n} \\sum_{\n",
    "i=1}^{n} (y_i - \\hat{y}_i)^2}\n",
    "$$\n",
    "\n",
    "c'est-à-dire : \n",
    "\n",
    "$$\n",
    "\\text{RMSE(a, b)} = \\sqrt{\\frac{1}{n} \\sum_{\n",
    "i=1}^{n} (y_i - (a \\cdot x_i + b))^2}\n",
    "$$\n",
    "\n",
    "Notre objectif est donc de trouver les paramètres a et b qui minimisent la RMSE.\n",
    "\n",
    "$$\\min_{a, b} \\text{RMSE}(a, b)$$"
   ]
  },
  {
   "cell_type": "markdown",
   "id": "b8433c7c",
   "metadata": {},
   "source": [
    "# Quelle forme a cette fonction de coût ?"
   ]
  },
  {
   "cell_type": "code",
   "execution_count": 1,
   "id": "3d6443e0",
   "metadata": {},
   "outputs": [],
   "source": [
    "import numpy as np \n",
    "import matplotlib.pyplot as plt"
   ]
  },
  {
   "cell_type": "markdown",
   "id": "a10e8bfe",
   "metadata": {},
   "source": []
  }
 ],
 "metadata": {
  "kernelspec": {
   "display_name": "base_ds",
   "language": "python",
   "name": "python3"
  },
  "language_info": {
   "codemirror_mode": {
    "name": "ipython",
    "version": 3
   },
   "file_extension": ".py",
   "mimetype": "text/x-python",
   "name": "python",
   "nbconvert_exporter": "python",
   "pygments_lexer": "ipython3",
   "version": "3.13.0"
  }
 },
 "nbformat": 4,
 "nbformat_minor": 5
}
