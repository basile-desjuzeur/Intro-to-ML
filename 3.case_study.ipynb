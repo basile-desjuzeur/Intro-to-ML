{
 "cells": [
  {
   "cell_type": "markdown",
   "id": "950bc55a",
   "metadata": {},
   "source": [
    "# Cas pratique en Python \n",
    "\n",
    "Après avoir vu la théorie : place à la pratique ! "
   ]
  },
  {
   "cell_type": "code",
   "execution_count": 1,
   "id": "4da2df19",
   "metadata": {},
   "outputs": [],
   "source": [
    "import numpy as np \n",
    "import matplotlib.pyplot as plt "
   ]
  },
  {
   "cell_type": "markdown",
   "id": "a71ff441",
   "metadata": {},
   "source": [
    "# 1. Création du jeu de données \n",
    "\n",
    "Créez une fonction qui génère un dataset avec une variable X et une variable y avec un bruit aléatoire. "
   ]
  },
  {
   "cell_type": "code",
   "execution_count": null,
   "id": "7424fdcf",
   "metadata": {},
   "outputs": [],
   "source": [
    "def generate_dataset(n_samples=50): \n",
    "    \"\"\" \n",
    "    Parameters: \n",
    "        - n_samples : nombre de points dans le jeu de données\n",
    "\n",
    "    Returns: \n",
    "        - X : np.array, variable explicative (par exemple on peut prendre un \n",
    "        espacement régulier de floats entre 0 et 30)\n",
    "        - y : np.array, variable à expliquer (combinaison linéaire de X, avec un\n",
    "        bruit gaussien)\n",
    "    \"\"\"\n",
    "\n",
    "    ### VOTRE CODE ICI"
   ]
  },
  {
   "cell_type": "markdown",
   "id": "30775945",
   "metadata": {},
   "source": [
    "Affichez le dataset sous forme de scatterplot"
   ]
  },
  {
   "cell_type": "code",
   "execution_count": null,
   "id": "3690ecae",
   "metadata": {},
   "outputs": [],
   "source": [
    "### VOTRE CODE ICI"
   ]
  },
  {
   "cell_type": "markdown",
   "id": "90f9db3b",
   "metadata": {},
   "source": [
    "mse contour plot"
   ]
  },
  {
   "cell_type": "markdown",
   "id": "dbc8e4f0",
   "metadata": {},
   "source": [
    "# 2. Résolution analytique\n",
    "\n",
    "Créer une fonction qui calcule le meilleur jeu de paramètres en utilisant la résolution analytique. \n",
    "\n",
    "On rappelle que les valeurs qui annulent la dérivée de la MSE sont : \n",
    "\n",
    "$$\n",
    "a = \\frac{\\text{Cov}(X, Y)}{\\text{Var}(X)} = \\frac{\\sum_{i=1}^N (x_i - \\bar{x})(y_i - \\bar{y})}{\\sum_{i=1}^N (x_i - \\bar{x})^2}\\\\ \\text{et} \\\\\n",
    "b = \\bar{y} - a \\cdot \\bar{x}\n",
    "$$"
   ]
  },
  {
   "cell_type": "code",
   "execution_count": null,
   "metadata": {},
   "outputs": [],
   "source": [
    "def analytical_resolution():\n",
    "    \"\"\"\n",
    "\n",
    "    Parameters : \n",
    "        - a vous de jouer !\n",
    "\n",
    "\n",
    "    Returns : \n",
    "        - a : int, pente\n",
    "        - b : int, ordonnée à l'origine\n",
    "    \"\"\"\n",
    "\n",
    "    "
   ]
  },
  {
   "cell_type": "markdown",
   "id": "cd6cc694",
   "metadata": {},
   "source": [
    "Compléter le graphique précédent en faisant apparaître la droite de régression "
   ]
  },
  {
   "cell_type": "code",
   "execution_count": 2,
   "id": "d0142f85",
   "metadata": {},
   "outputs": [],
   "source": [
    "### VOTRE CODE ICI"
   ]
  },
  {
   "cell_type": "markdown",
   "id": "d49e10e4",
   "metadata": {},
   "source": [
    "# 2. Résolution algébrique \n",
    "\n",
    "Créer une fonction qui trouve le meilleur jeu de paramètres en utilisant la méthode algébrique. \n",
    "\n",
    "On rappelle que la projection orthogonale de Y sur l'espace engendré par les colonnes de X permet de trouver : \n",
    "\n",
    "$$\n",
    "\\hat{\\beta} = (X^T \\cdot X)^{-1} \\cdot X\n",
    "^T \\cdot Y\n",
    "$$\n",
    "\n",
    "\n",
    "NB : n'oubliez pas d'ajouter la colonne de 1, qui correspond au paramètre de l'ordonnée à l'origine."
   ]
  },
  {
   "cell_type": "code",
   "execution_count": null,
   "id": "4b1c25f2",
   "metadata": {},
   "outputs": [],
   "source": [
    "def algebraic_resolution():\n",
    "    \"\"\"\n",
    "    Parameters : \n",
    "\n",
    "        - a vous de jouer !\n",
    "\n",
    "    Return : \n",
    "        - a : int, pente\n",
    "        - b : int, ordonnée à l'origine\n",
    "    \"\"\""
   ]
  },
  {
   "cell_type": "markdown",
   "id": "5816dfbe",
   "metadata": {},
   "source": [
    "Compléter le graphique précédent en faisant apparaître la droite de régression obtenue."
   ]
  },
  {
   "cell_type": "markdown",
   "id": "b28218bd",
   "metadata": {},
   "source": [
    "# 3. Descente de gradient \n",
    "\n",
    "\n",
    "Implémenter un algorithme de descente de gradient. \n",
    "\n",
    "\n",
    "On donne le pseudo-code associé : \n",
    "\n",
    "<p align=\"center\">\n",
    "  <img src=\"./img/gradient_descent.png\" alt=\"plot\" width=\"50%\"/>\n",
    "</p>"
   ]
  },
  {
   "cell_type": "code",
   "execution_count": null,
   "id": "e5f54777",
   "metadata": {},
   "outputs": [],
   "source": [
    "def gradient_mse():\n",
    "    \"\"\"\n",
    "    Gradient de la fonction de coût évalué au point x, y \n",
    "\n",
    "    Parameters :\n",
    "        - x, y : coordonnées du point\n",
    "        \n",
    "    Returns: \n",
    "        - d_mse_d_a : int, valeur de la dérivée par rapport à a\n",
    "        - d_mse_d_b : int, valeur de la dérivée par rapport à b \n",
    "    \"\"\"\n",
    "\n",
    "\n",
    "    return\n",
    "\n",
    "def gradient_descent():\n",
    "    \"\"\"\n",
    "    Applique l'algoritme de descente de gradient à une fonction\n",
    "\n",
    "    Parameters:\n",
    "        - derivative (function) : gradient de la fonction de coût\n",
    "        - initial_condition (int) : point de départ\n",
    "        - lr (int) : learning rate\n",
    "        - n (int) : nombre d'itérations\n",
    "\n",
    "    Return:\n",
    "        - iteration_history (list) : liste des itérés successifs (coordonnés x, y) \n",
    "        - derivation_history (list) : valeurs du gradient à chaque itération\n",
    "    \"\"\""
   ]
  },
  {
   "cell_type": "markdown",
   "id": "554906e6",
   "metadata": {},
   "source": [
    "## Diagnostic"
   ]
  },
  {
   "cell_type": "markdown",
   "id": "886448eb",
   "metadata": {},
   "source": [
    "Affichez dans un seul plot (plt.subplots) : \n",
    "\n",
    "- l'évolution de la norme du gradient\n",
    "- l'évolution de la position en x de la particule\n",
    "- l'évolution de la position en y de la particule\n",
    "\n",
    "Tester différentes valeurs d'hyperparamètres. "
   ]
  },
  {
   "cell_type": "markdown",
   "id": "a324bbbb",
   "metadata": {},
   "source": []
  }
 ],
 "metadata": {
  "kernelspec": {
   "display_name": "base_ds",
   "language": "python",
   "name": "python3"
  },
  "language_info": {
   "codemirror_mode": {
    "name": "ipython",
    "version": 3
   },
   "file_extension": ".py",
   "mimetype": "text/x-python",
   "name": "python",
   "nbconvert_exporter": "python",
   "pygments_lexer": "ipython3",
   "version": "3.13.0"
  }
 },
 "nbformat": 4,
 "nbformat_minor": 5
}
