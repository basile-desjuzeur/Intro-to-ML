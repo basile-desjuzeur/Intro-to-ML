{
 "cells": [
  {
   "cell_type": "markdown",
   "id": "a1559062",
   "metadata": {},
   "source": [
    "# Régression linéaire multiple\n",
    "\n",
    "1. Corrigé du quizz\n",
    "2. Recap\n",
    "3. Régressions multiples\n",
    "\n",
    "On se place dans le même contexte que précédemment, simplement on utilise plusieurs variables explicatives.\n",
    "\n",
    "Matriciellement on se retrouve avec la configuration suivante : \n",
    "\n",
    "$$\n",
    "\\mathbf{y} = \\mathbf{X}\\boldsymbol{\\beta} + \\boldsymbol{\\varepsilon}, \\quad\n",
    "\\hat{\\boldsymbol{\\beta}} = (\\mathbf{X}^\\top \\mathbf{X})^{-1} \\mathbf{X}^\\top \\mathbf{y}\n",
    "$$\n",
    "\n",
    "$$\n",
    "\\mathbf{y} = (y_1, \\dots, y_n)^\\top, \\quad\n",
    "\\mathbf{X} = \n",
    "\\begin{bmatrix} \n",
    "1 & x_{11} & \\dots & x_{1p} \\\\ \n",
    "\\vdots & \\vdots & \\ddots & \\vdots \\\\ \n",
    "1 & x_{n1} & \\dots & x_{np} \n",
    "\\end{bmatrix}, \\quad\n",
    "\\boldsymbol{\\beta} = (\\beta_0, \\dots, \\beta_p)^\\top, \\quad\n",
    "\\boldsymbol{\\varepsilon} = (\\varepsilon_1, \\dots, \\varepsilon_n)^\\top\n",
    "$$\n",
    "\n"
   ]
  },
  {
   "cell_type": "markdown",
   "id": "319ac1dc",
   "metadata": {},
   "source": [
    "## Génération d'un jeu de données"
   ]
  },
  {
   "cell_type": "code",
   "execution_count": 15,
   "id": "f5a44f74",
   "metadata": {},
   "outputs": [
    {
     "data": {
      "application/vnd.plotly.v1+json": {
       "config": {
        "plotlyServerURL": "https://plot.ly"
       },
       "data": [
        {
         "marker": {
          "color": {
           "bdata": "Bstakdaw5b9CFzEv/d/sv49CEHDwU/I/tJrHmigfwb+tJYrGQCfiP2A13XVGkeu/1S03Jsiz8T8sNCYaQ2zCP8YR7HFfk8U//tW3ZfDm97+ze/ON7v30v8Te8encKfQ/FiZ8zNND6j+peMIxab4OwPq4SCtGe/W/SmZB2qLG/T9GPWFW+7/lv1KsYGIdbuy/5Mrymtsp6T8dppzjBNLgv2AXkat9Sfo/MtpkQPOJ9b9T0AJZwwvxP2Z2pptwQ+O/hoYVQ/JA3r++imy+JrbxP9KWRYNaOPa/mQa57fxcAUB+uYJiwFntv/Z5x3hXzvA/WYBBurBV8D/PlqU3UZIDQEN25mtOmN6/k8RJvAhc/j9+Dv37S4fQPwO00++m7wFAe/y0FbeO8L8QeIlij0Ozv8CGQ5bPg8g/kO7kcKbYkb9+mYo9Tcmuv37owwyJmu0/XH1gCr0i5z+AZmTZ1cDwvxuRAzuE1Po/HkKrx/fQzD8+6Dfoz4Ttv/NEiQ8N49g/XgNRZDNs9T/RTdg+5pbiPw==",
           "dtype": "f8"
          },
          "colorscale": [
           [
            0,
            "#440154"
           ],
           [
            0.1111111111111111,
            "#482878"
           ],
           [
            0.2222222222222222,
            "#3e4989"
           ],
           [
            0.3333333333333333,
            "#31688e"
           ],
           [
            0.4444444444444444,
            "#26828e"
           ],
           [
            0.5555555555555556,
            "#1f9e89"
           ],
           [
            0.6666666666666666,
            "#35b779"
           ],
           [
            0.7777777777777778,
            "#6ece58"
           ],
           [
            0.8888888888888888,
            "#b5de2b"
           ],
           [
            1,
            "#fde725"
           ]
          ],
          "opacity": 0.8,
          "size": 5
         },
         "mode": "markers",
         "type": "scatter3d",
         "x": {
          "bdata": "zY+kYydJ8j/tjDLl96u/P6SyUiyiUrW/oXRcSQsU8b+PmqcPhaf7v67HLDDWYOs/DzhJvp3X17+20LvJIBTyP7DzGTcErsK/iiO04BLS2z/m4rcE2w7zP8PwrNWnneg/QEty7l7JtL+4rQluB7j6Pztg42485dw/IrZbwnQ0679i8y+JLkPmP0byxg+ZUeo/hnAYm0za7z+0AGEXLyi+v87dciRYcve/wz+ggiLT9T9wpWHEb8r7v+cP+Uh55fM/fMRRj51J0D/SGVSVz6DuP/DpKRixlMM/bhx9+SM24L/gCO/geg+4vwTRn/v2NOs/5Cwj4929zD9dEHbMmfXzvyoCzUgQ1sE/yfR55eLrBcD71cLZrTz+v4BhzlQ0f+a/cw4OE9dT4T/ivd0ITlDgP+ZTKe9ajK6/KT4SWOfP2T+WJ+p9h8PUPwfZBCN31+m/+hoyRaV78r8Gs5+LUF7xPzg0YFH4Sry/029cSnXu5j/vFLIEyEvwPxbwUE/TV+G/nI68ldYU/L/UWEWVeLfyvw==",
          "dtype": "f8"
         },
         "y": {
          "bdata": "XEZzlE6W+D9Xui0eq2PSPyCzc8qEWeK/VBEQOeem0r98QQ8qO0wCwIHBVtgQguM/lBcYpn0UxT/YTf3aEba/P2k9w6UmM/i/v5u0ONe1+T8upsqPAXP+P7buIVSzqeO//fjVcw1V/j+vkxexmCrYP62nMOcAKeG/B+iiyega/79VIlCThTbhP49KZIL0FPI/q0TLZyBgwD9bm5kYAsTxP/kzrjArbva/MZxOxhJG6T8mJVO1mTb1v6HzcBE5XgFAWeQt9fcGir9a5GMZtszhv1rZOO9Iq/I/0cA2X1Rryz9qEgV9NSn8PzFC2jTE1vi/1ZqI6oYa6z+CsaMSfr33vw8gJmbx1si/CM6Rzs9b67/Npov0XoLXv3POD8JCpL0/SuFqS/7p2r+rwHrxvULhP5lOpVFm9s0/3lWcQCWHlb9ipfnq+jexP+Sjcd4q5fy/6MvXBh0BAMAv5RsckWnMv230goUDEwDAVgNwZ39f1j9Eu33/mr36v8HJ8usBAQDAicAkjmdC3r8v0+BYhFXsvw==",
          "dtype": "f8"
         },
         "z": {
          "bdata": "Bstakdaw5b9CFzEv/d/sv49CEHDwU/I/tJrHmigfwb+tJYrGQCfiP2A13XVGkeu/1S03Jsiz8T8sNCYaQ2zCP8YR7HFfk8U//tW3ZfDm97+ze/ON7v30v8Te8encKfQ/FiZ8zNND6j+peMIxab4OwPq4SCtGe/W/SmZB2qLG/T9GPWFW+7/lv1KsYGIdbuy/5Mrymtsp6T8dppzjBNLgv2AXkat9Sfo/MtpkQPOJ9b9T0AJZwwvxP2Z2pptwQ+O/hoYVQ/JA3r++imy+JrbxP9KWRYNaOPa/mQa57fxcAUB+uYJiwFntv/Z5x3hXzvA/WYBBurBV8D/PlqU3UZIDQEN25mtOmN6/k8RJvAhc/j9+Dv37S4fQPwO00++m7wFAe/y0FbeO8L8QeIlij0Ozv8CGQ5bPg8g/kO7kcKbYkb9+mYo9Tcmuv37owwyJmu0/XH1gCr0i5z+AZmTZ1cDwvxuRAzuE1Po/HkKrx/fQzD8+6Dfoz4Ttv/NEiQ8N49g/XgNRZDNs9T/RTdg+5pbiPw==",
          "dtype": "f8"
         }
        }
       ],
       "layout": {
        "scene": {
         "xaxis": {
          "title": {
           "text": "âge du consommateur"
          }
         },
         "yaxis": {
          "title": {
           "text": "salaire"
          }
         },
         "zaxis": {
          "title": {
           "text": "CA"
          }
         }
        },
        "template": {
         "data": {
          "bar": [
           {
            "error_x": {
             "color": "#2a3f5f"
            },
            "error_y": {
             "color": "#2a3f5f"
            },
            "marker": {
             "line": {
              "color": "#E5ECF6",
              "width": 0.5
             },
             "pattern": {
              "fillmode": "overlay",
              "size": 10,
              "solidity": 0.2
             }
            },
            "type": "bar"
           }
          ],
          "barpolar": [
           {
            "marker": {
             "line": {
              "color": "#E5ECF6",
              "width": 0.5
             },
             "pattern": {
              "fillmode": "overlay",
              "size": 10,
              "solidity": 0.2
             }
            },
            "type": "barpolar"
           }
          ],
          "carpet": [
           {
            "aaxis": {
             "endlinecolor": "#2a3f5f",
             "gridcolor": "white",
             "linecolor": "white",
             "minorgridcolor": "white",
             "startlinecolor": "#2a3f5f"
            },
            "baxis": {
             "endlinecolor": "#2a3f5f",
             "gridcolor": "white",
             "linecolor": "white",
             "minorgridcolor": "white",
             "startlinecolor": "#2a3f5f"
            },
            "type": "carpet"
           }
          ],
          "choropleth": [
           {
            "colorbar": {
             "outlinewidth": 0,
             "ticks": ""
            },
            "type": "choropleth"
           }
          ],
          "contour": [
           {
            "colorbar": {
             "outlinewidth": 0,
             "ticks": ""
            },
            "colorscale": [
             [
              0,
              "#0d0887"
             ],
             [
              0.1111111111111111,
              "#46039f"
             ],
             [
              0.2222222222222222,
              "#7201a8"
             ],
             [
              0.3333333333333333,
              "#9c179e"
             ],
             [
              0.4444444444444444,
              "#bd3786"
             ],
             [
              0.5555555555555556,
              "#d8576b"
             ],
             [
              0.6666666666666666,
              "#ed7953"
             ],
             [
              0.7777777777777778,
              "#fb9f3a"
             ],
             [
              0.8888888888888888,
              "#fdca26"
             ],
             [
              1,
              "#f0f921"
             ]
            ],
            "type": "contour"
           }
          ],
          "contourcarpet": [
           {
            "colorbar": {
             "outlinewidth": 0,
             "ticks": ""
            },
            "type": "contourcarpet"
           }
          ],
          "heatmap": [
           {
            "colorbar": {
             "outlinewidth": 0,
             "ticks": ""
            },
            "colorscale": [
             [
              0,
              "#0d0887"
             ],
             [
              0.1111111111111111,
              "#46039f"
             ],
             [
              0.2222222222222222,
              "#7201a8"
             ],
             [
              0.3333333333333333,
              "#9c179e"
             ],
             [
              0.4444444444444444,
              "#bd3786"
             ],
             [
              0.5555555555555556,
              "#d8576b"
             ],
             [
              0.6666666666666666,
              "#ed7953"
             ],
             [
              0.7777777777777778,
              "#fb9f3a"
             ],
             [
              0.8888888888888888,
              "#fdca26"
             ],
             [
              1,
              "#f0f921"
             ]
            ],
            "type": "heatmap"
           }
          ],
          "histogram": [
           {
            "marker": {
             "pattern": {
              "fillmode": "overlay",
              "size": 10,
              "solidity": 0.2
             }
            },
            "type": "histogram"
           }
          ],
          "histogram2d": [
           {
            "colorbar": {
             "outlinewidth": 0,
             "ticks": ""
            },
            "colorscale": [
             [
              0,
              "#0d0887"
             ],
             [
              0.1111111111111111,
              "#46039f"
             ],
             [
              0.2222222222222222,
              "#7201a8"
             ],
             [
              0.3333333333333333,
              "#9c179e"
             ],
             [
              0.4444444444444444,
              "#bd3786"
             ],
             [
              0.5555555555555556,
              "#d8576b"
             ],
             [
              0.6666666666666666,
              "#ed7953"
             ],
             [
              0.7777777777777778,
              "#fb9f3a"
             ],
             [
              0.8888888888888888,
              "#fdca26"
             ],
             [
              1,
              "#f0f921"
             ]
            ],
            "type": "histogram2d"
           }
          ],
          "histogram2dcontour": [
           {
            "colorbar": {
             "outlinewidth": 0,
             "ticks": ""
            },
            "colorscale": [
             [
              0,
              "#0d0887"
             ],
             [
              0.1111111111111111,
              "#46039f"
             ],
             [
              0.2222222222222222,
              "#7201a8"
             ],
             [
              0.3333333333333333,
              "#9c179e"
             ],
             [
              0.4444444444444444,
              "#bd3786"
             ],
             [
              0.5555555555555556,
              "#d8576b"
             ],
             [
              0.6666666666666666,
              "#ed7953"
             ],
             [
              0.7777777777777778,
              "#fb9f3a"
             ],
             [
              0.8888888888888888,
              "#fdca26"
             ],
             [
              1,
              "#f0f921"
             ]
            ],
            "type": "histogram2dcontour"
           }
          ],
          "mesh3d": [
           {
            "colorbar": {
             "outlinewidth": 0,
             "ticks": ""
            },
            "type": "mesh3d"
           }
          ],
          "parcoords": [
           {
            "line": {
             "colorbar": {
              "outlinewidth": 0,
              "ticks": ""
             }
            },
            "type": "parcoords"
           }
          ],
          "pie": [
           {
            "automargin": true,
            "type": "pie"
           }
          ],
          "scatter": [
           {
            "fillpattern": {
             "fillmode": "overlay",
             "size": 10,
             "solidity": 0.2
            },
            "type": "scatter"
           }
          ],
          "scatter3d": [
           {
            "line": {
             "colorbar": {
              "outlinewidth": 0,
              "ticks": ""
             }
            },
            "marker": {
             "colorbar": {
              "outlinewidth": 0,
              "ticks": ""
             }
            },
            "type": "scatter3d"
           }
          ],
          "scattercarpet": [
           {
            "marker": {
             "colorbar": {
              "outlinewidth": 0,
              "ticks": ""
             }
            },
            "type": "scattercarpet"
           }
          ],
          "scattergeo": [
           {
            "marker": {
             "colorbar": {
              "outlinewidth": 0,
              "ticks": ""
             }
            },
            "type": "scattergeo"
           }
          ],
          "scattergl": [
           {
            "marker": {
             "colorbar": {
              "outlinewidth": 0,
              "ticks": ""
             }
            },
            "type": "scattergl"
           }
          ],
          "scattermap": [
           {
            "marker": {
             "colorbar": {
              "outlinewidth": 0,
              "ticks": ""
             }
            },
            "type": "scattermap"
           }
          ],
          "scattermapbox": [
           {
            "marker": {
             "colorbar": {
              "outlinewidth": 0,
              "ticks": ""
             }
            },
            "type": "scattermapbox"
           }
          ],
          "scatterpolar": [
           {
            "marker": {
             "colorbar": {
              "outlinewidth": 0,
              "ticks": ""
             }
            },
            "type": "scatterpolar"
           }
          ],
          "scatterpolargl": [
           {
            "marker": {
             "colorbar": {
              "outlinewidth": 0,
              "ticks": ""
             }
            },
            "type": "scatterpolargl"
           }
          ],
          "scatterternary": [
           {
            "marker": {
             "colorbar": {
              "outlinewidth": 0,
              "ticks": ""
             }
            },
            "type": "scatterternary"
           }
          ],
          "surface": [
           {
            "colorbar": {
             "outlinewidth": 0,
             "ticks": ""
            },
            "colorscale": [
             [
              0,
              "#0d0887"
             ],
             [
              0.1111111111111111,
              "#46039f"
             ],
             [
              0.2222222222222222,
              "#7201a8"
             ],
             [
              0.3333333333333333,
              "#9c179e"
             ],
             [
              0.4444444444444444,
              "#bd3786"
             ],
             [
              0.5555555555555556,
              "#d8576b"
             ],
             [
              0.6666666666666666,
              "#ed7953"
             ],
             [
              0.7777777777777778,
              "#fb9f3a"
             ],
             [
              0.8888888888888888,
              "#fdca26"
             ],
             [
              1,
              "#f0f921"
             ]
            ],
            "type": "surface"
           }
          ],
          "table": [
           {
            "cells": {
             "fill": {
              "color": "#EBF0F8"
             },
             "line": {
              "color": "white"
             }
            },
            "header": {
             "fill": {
              "color": "#C8D4E3"
             },
             "line": {
              "color": "white"
             }
            },
            "type": "table"
           }
          ]
         },
         "layout": {
          "annotationdefaults": {
           "arrowcolor": "#2a3f5f",
           "arrowhead": 0,
           "arrowwidth": 1
          },
          "autotypenumbers": "strict",
          "coloraxis": {
           "colorbar": {
            "outlinewidth": 0,
            "ticks": ""
           }
          },
          "colorscale": {
           "diverging": [
            [
             0,
             "#8e0152"
            ],
            [
             0.1,
             "#c51b7d"
            ],
            [
             0.2,
             "#de77ae"
            ],
            [
             0.3,
             "#f1b6da"
            ],
            [
             0.4,
             "#fde0ef"
            ],
            [
             0.5,
             "#f7f7f7"
            ],
            [
             0.6,
             "#e6f5d0"
            ],
            [
             0.7,
             "#b8e186"
            ],
            [
             0.8,
             "#7fbc41"
            ],
            [
             0.9,
             "#4d9221"
            ],
            [
             1,
             "#276419"
            ]
           ],
           "sequential": [
            [
             0,
             "#0d0887"
            ],
            [
             0.1111111111111111,
             "#46039f"
            ],
            [
             0.2222222222222222,
             "#7201a8"
            ],
            [
             0.3333333333333333,
             "#9c179e"
            ],
            [
             0.4444444444444444,
             "#bd3786"
            ],
            [
             0.5555555555555556,
             "#d8576b"
            ],
            [
             0.6666666666666666,
             "#ed7953"
            ],
            [
             0.7777777777777778,
             "#fb9f3a"
            ],
            [
             0.8888888888888888,
             "#fdca26"
            ],
            [
             1,
             "#f0f921"
            ]
           ],
           "sequentialminus": [
            [
             0,
             "#0d0887"
            ],
            [
             0.1111111111111111,
             "#46039f"
            ],
            [
             0.2222222222222222,
             "#7201a8"
            ],
            [
             0.3333333333333333,
             "#9c179e"
            ],
            [
             0.4444444444444444,
             "#bd3786"
            ],
            [
             0.5555555555555556,
             "#d8576b"
            ],
            [
             0.6666666666666666,
             "#ed7953"
            ],
            [
             0.7777777777777778,
             "#fb9f3a"
            ],
            [
             0.8888888888888888,
             "#fdca26"
            ],
            [
             1,
             "#f0f921"
            ]
           ]
          },
          "colorway": [
           "#636efa",
           "#EF553B",
           "#00cc96",
           "#ab63fa",
           "#FFA15A",
           "#19d3f3",
           "#FF6692",
           "#B6E880",
           "#FF97FF",
           "#FECB52"
          ],
          "font": {
           "color": "#2a3f5f"
          },
          "geo": {
           "bgcolor": "white",
           "lakecolor": "white",
           "landcolor": "#E5ECF6",
           "showlakes": true,
           "showland": true,
           "subunitcolor": "white"
          },
          "hoverlabel": {
           "align": "left"
          },
          "hovermode": "closest",
          "mapbox": {
           "style": "light"
          },
          "paper_bgcolor": "white",
          "plot_bgcolor": "#E5ECF6",
          "polar": {
           "angularaxis": {
            "gridcolor": "white",
            "linecolor": "white",
            "ticks": ""
           },
           "bgcolor": "#E5ECF6",
           "radialaxis": {
            "gridcolor": "white",
            "linecolor": "white",
            "ticks": ""
           }
          },
          "scene": {
           "xaxis": {
            "backgroundcolor": "#E5ECF6",
            "gridcolor": "white",
            "gridwidth": 2,
            "linecolor": "white",
            "showbackground": true,
            "ticks": "",
            "zerolinecolor": "white"
           },
           "yaxis": {
            "backgroundcolor": "#E5ECF6",
            "gridcolor": "white",
            "gridwidth": 2,
            "linecolor": "white",
            "showbackground": true,
            "ticks": "",
            "zerolinecolor": "white"
           },
           "zaxis": {
            "backgroundcolor": "#E5ECF6",
            "gridcolor": "white",
            "gridwidth": 2,
            "linecolor": "white",
            "showbackground": true,
            "ticks": "",
            "zerolinecolor": "white"
           }
          },
          "shapedefaults": {
           "line": {
            "color": "#2a3f5f"
           }
          },
          "ternary": {
           "aaxis": {
            "gridcolor": "white",
            "linecolor": "white",
            "ticks": ""
           },
           "baxis": {
            "gridcolor": "white",
            "linecolor": "white",
            "ticks": ""
           },
           "bgcolor": "#E5ECF6",
           "caxis": {
            "gridcolor": "white",
            "linecolor": "white",
            "ticks": ""
           }
          },
          "title": {
           "x": 0.05
          },
          "xaxis": {
           "automargin": true,
           "gridcolor": "white",
           "linecolor": "white",
           "ticks": "",
           "title": {
            "standoff": 15
           },
           "zerolinecolor": "white",
           "zerolinewidth": 2
          },
          "yaxis": {
           "automargin": true,
           "gridcolor": "white",
           "linecolor": "white",
           "ticks": "",
           "title": {
            "standoff": 15
           },
           "zerolinecolor": "white",
           "zerolinewidth": 2
          }
         }
        },
        "title": {
         "text": "Jeu de données à trois dimensions"
        }
       }
      }
     },
     "metadata": {},
     "output_type": "display_data"
    }
   ],
   "source": [
    "import numpy as np \n",
    "import matplotlib.pyplot as plt\n",
    "from utils import generate_regression_data\n",
    "import plotly.graph_objects as go\n",
    "\n",
    "X, y, _ = generate_regression_data(n_samples=50, n_features=2, noise_std=1)\n",
    "\n",
    "fig = go.Figure(data=[go.Scatter3d(\n",
    "    x=X[:,0], \n",
    "    y=X[:,1], \n",
    "    z=y,      \n",
    "    mode='markers',\n",
    "    marker=dict(\n",
    "        size=5,\n",
    "        color=y,    # couleur selon y\n",
    "        colorscale='Viridis',\n",
    "        opacity=0.8\n",
    "    )\n",
    ")])\n",
    "\n",
    "fig.update_layout(\n",
    "    scene=dict(\n",
    "        xaxis_title='âge du consommateur',\n",
    "        yaxis_title='salaire',\n",
    "        zaxis_title='CA'\n",
    "    ),\n",
    "    title='Jeu de données à trois dimensions'\n",
    ")\n",
    "\n",
    "fig.show()\n"
   ]
  },
  {
   "cell_type": "code",
   "execution_count": 2,
   "id": "621c55cb",
   "metadata": {},
   "outputs": [
    {
     "data": {
      "image/png": "[encoded data removed]",
      "text/plain": [
       "<Figure size 640x480 with 3 Axes>"
      ]
     },
     "metadata": {},
     "output_type": "display_data"
    }
   ],
   "source": [
    "fig, axs = plt.subplots(1, 3)\n",
    "\n",
    "axs[0].scatter(X[:, 0], y)\n",
    "axs[0].set_xlabel(\"X1\")\n",
    "axs[0].set_ylabel(\"Y\")\n",
    "axs[1].scatter(X[:, 1], y)\n",
    "axs[1].set_xlabel(\"X2\")\n",
    "axs[1].set_ylabel(\"Y\")\n",
    "axs[2].scatter(X[:, 1], X[:, 0])\n",
    "axs[2].set_xlabel(\"X2\")\n",
    "axs[2].set_ylabel(\"X1\")\n",
    "plt.suptitle(\"Coupes 2D\")\n",
    "plt.tight_layout()\n",
    "plt.show();"
   ]
  },
  {
   "cell_type": "markdown",
   "id": "5fe75163",
   "metadata": {},
   "source": [
    "## Régression linéaire multivariée\n",
    "\n",
    "\n",
    "De la même manière que pour la régression simple, on cherche à minimiser la fonction d'erreur. Comme le jeu de données est petit, on va résoudre le problème algébraiquement. \n",
    "\n",
    "La solution est données par : \n",
    "\n",
    "$\n",
    "\\hat{\\boldsymbol{\\beta}} = (\\mathbf{X}^\\top \\mathbf{X})^{-1} \\mathbf{X}^\\top \\mathbf{y}\n",
    "$"
   ]
  },
  {
   "cell_type": "markdown",
   "id": "58e7517b",
   "metadata": {},
   "source": [
    "Un détour par l'algèbre linéaire"
   ]
  },
  {
   "cell_type": "code",
   "execution_count": 19,
   "id": "6907842a",
   "metadata": {},
   "outputs": [
    {
     "data": {
      "image/png": "[encoded data removed]",
      "text/plain": [
       "<Figure size 800x600 with 1 Axes>"
      ]
     },
     "metadata": {},
     "output_type": "display_data"
    }
   ],
   "source": [
    "import numpy as np\n",
    "import matplotlib.pyplot as plt\n",
    "\n",
    "# Matrice quasi-singulière\n",
    "X = np.array([[1, 0], [1, 1e-10]])\n",
    "y = np.array([1, 2])  # un petit vecteur\n",
    "\n",
    "# Avec inverse classique\n",
    "beta_inv = np.linalg.inv(X) @ y\n",
    "\n",
    "# Avec pseudo-inverse\n",
    "beta_pinv = np.linalg.pinv(X) @ y\n",
    "\n",
    "# Avec une petite perturbation (bruit)\n",
    "eps = 1e-12\n",
    "X_noisy = X + np.array([[0, 0], [0, eps]])\n",
    "beta_inv_noisy = np.linalg.inv(X_noisy) @ y\n",
    "beta_pinv_noisy = np.linalg.pinv(X_noisy) @ y\n",
    "\n",
    "# Comparaison visuelle des coefficients\n",
    "labels = [\"β0\", \"β1\"]\n",
    "x = np.arange(len(labels))\n",
    "width = 0.2\n",
    "\n",
    "fig, ax = plt.subplots(figsize=(8,6))\n",
    "\n",
    "ax.bar(x - width, beta_inv, width, label=\"Inverse (quasi-singulière)\")\n",
    "ax.bar(x, beta_pinv, width, label=\"Pinv (quasi-singulière)\")\n",
    "ax.bar(x + width, beta_inv_noisy, width, label=\"Inverse (+ bruit)\")\n",
    "ax.bar(x + 2*width, beta_pinv_noisy, width, label=\"Pinv (+ bruit)\")\n",
    "\n",
    "ax.set_xticks(x + width/2)\n",
    "ax.set_xticklabels(labels)\n",
    "ax.set_ylabel(\"Valeurs des coefficients\")\n",
    "ax.set_title(\"Instabilité numérique : inv vs pinv\")\n",
    "ax.legend()\n",
    "plt.show()\n"
   ]
  },
  {
   "cell_type": "code",
   "execution_count": 14,
   "id": "d66ff691",
   "metadata": {},
   "outputs": [
    {
     "ename": "ValueError",
     "evalue": "matmul: Input operand 1 has a mismatch in its core dimension 0, with gufunc signature (n?,k),(k,m?)->(n?,m?) (size 50 is different from 2)",
     "output_type": "error",
     "traceback": [
      "\u001b[31m---------------------------------------------------------------------------\u001b[39m",
      "\u001b[31mValueError\u001b[39m                                Traceback (most recent call last)",
      "\u001b[36mCell\u001b[39m\u001b[36m \u001b[39m\u001b[32mIn[14]\u001b[39m\u001b[32m, line 33\u001b[39m\n\u001b[32m     29\u001b[39m     beta = np.linalg.pinv(XtX) @ Xty  \u001b[38;5;66;03m# pseudo-inverse pour la stabilité\u001b[39;00m\n\u001b[32m     31\u001b[39m     \u001b[38;5;28;01mreturn\u001b[39;00m beta.flatten()\n\u001b[32m---> \u001b[39m\u001b[32m33\u001b[39m coef = \u001b[43malgebraic_resolution\u001b[49m\u001b[43m(\u001b[49m\u001b[43mX\u001b[49m\u001b[43m,\u001b[49m\u001b[43m \u001b[49m\u001b[43my\u001b[49m\u001b[43m,\u001b[49m\u001b[43m \u001b[49m\u001b[43mfit_intercept\u001b[49m\u001b[43m=\u001b[49m\u001b[38;5;28;43;01mTrue\u001b[39;49;00m\u001b[43m)\u001b[49m\n\u001b[32m     34\u001b[39m coef\n",
      "\u001b[36mCell\u001b[39m\u001b[36m \u001b[39m\u001b[32mIn[14]\u001b[39m\u001b[32m, line 28\u001b[39m, in \u001b[36malgebraic_resolution\u001b[39m\u001b[34m(X, y, fit_intercept)\u001b[39m\n\u001b[32m     26\u001b[39m \u001b[38;5;66;03m# Résolution analytique : beta = (X^T X)^(-1) X^T y\u001b[39;00m\n\u001b[32m     27\u001b[39m XtX = X.T @ X\n\u001b[32m---> \u001b[39m\u001b[32m28\u001b[39m Xty = \u001b[43mX\u001b[49m\u001b[43m.\u001b[49m\u001b[43mT\u001b[49m\u001b[43m \u001b[49m\u001b[43m@\u001b[49m\u001b[43m \u001b[49m\u001b[43my\u001b[49m\n\u001b[32m     29\u001b[39m beta = np.linalg.pinv(XtX) @ Xty  \u001b[38;5;66;03m# pseudo-inverse pour la stabilité\u001b[39;00m\n\u001b[32m     31\u001b[39m \u001b[38;5;28;01mreturn\u001b[39;00m beta.flatten()\n",
      "\u001b[31mValueError\u001b[39m: matmul: Input operand 1 has a mismatch in its core dimension 0, with gufunc signature (n?,k),(k,m?)->(n?,m?) (size 50 is different from 2)"
     ]
    }
   ],
   "source": [
    "def algebraic_resolution(X, y, fit_intercept=True):\n",
    "    \"\"\"\n",
    "    Résout le problème des moindres carrés pour une régression linéaire multiple.\n",
    "\n",
    "    Paramètres\n",
    "    ----------\n",
    "    X : numpy.ndarray, shape (n_samples, n_features)\n",
    "        Matrice des variables explicatives\n",
    "    y : numpy.ndarray, shape (n_samples,) ou (n_samples, 1)\n",
    "        Vecteur cible\n",
    "    fit_intercept : bool, default=True\n",
    "        Ajouter ou non un intercept (colonne de 1)\n",
    "\n",
    "    Retour\n",
    "    ------\n",
    "    parameters : numpy.ndarray\n",
    "        Coefficients estimés (intercept + beta si fit_intercept=True)\n",
    "    \"\"\"\n",
    "    X = np.array(X)\n",
    "    y = np.array(y).reshape(-1, 1)\n",
    "\n",
    "    if fit_intercept:\n",
    "        # Ajouter une colonne de 1 pour l'intercept\n",
    "        X = np.hstack([np.ones((X.shape[0], 1)), X])\n",
    "    \n",
    "    # Résolution analytique : beta = (X^T X)^(-1) X^T y\n",
    "    XtX = X.T @ X\n",
    "    Xty = X.T @ y\n",
    "    beta = np.linalg.pinv(XtX) @ Xty  # pseudo-inverse pour la stabilité\n",
    "\n",
    "    return beta.flatten()\n",
    "\n",
    "coef = algebraic_resolution(X, y, fit_intercept=True)\n",
    "coef"
   ]
  },
  {
   "cell_type": "code",
   "execution_count": 36,
   "id": "f7adf94b",
   "metadata": {},
   "outputs": [
    {
     "data": {
      "application/vnd.plotly.v1+json": {
       "config": {
        "plotlyServerURL": "https://plot.ly"
       },
       "data": [
        {
         "marker": {
          "color": "blue",
          "opacity": 0.8,
          "size": 5
         },
         "mode": "markers",
         "name": "Données",
         "type": "scatter3d",
         "x": {
          "bdata": "81CmYeaG8L81pLvgdoP1vw1SDJaUxOw/Hi7X33GvAMCf7xgoo2jiP4VY1mMBsuY/7Rxi9uqyBcAKo1h5IpHvP/yR6hj1kvG/L935lRdD5L8KmRvtRuP0vx5YX7XA+MM/eyluESDV6b+goTcJ4ljtP/LNDRf/IN4/OB3tB3xx+b+rlHj1NsHjv5mdm/r93/+/+d7qeBzn5j+k3zuiWpvHP2sukTeM/fM/EMafUXEt2j+6C1e4I6HVv3KLSO+K1fa/USeNYtMs6b9WUkLHjbzAP8X53HdwpOE/MUgdse5M/D8CoJVqF8reP6GG50yf//S/OTX98PVD8L8hOrHF3ib0v8UWHvokRuY/mBUcCiGH9L9sX03cnpHoPzxlk51KxPw/vN2i3xaOx7/2xgY5NrnJP+o2HLJ6fuo/TJyGN/Cf5b8oAHn489/wP/Ii0aRfs86/CeFyI3DO6T/BaHrRnAoBwLvUNtLa7u0/Rjasbcat379hTWGdvPnWv/7plXaX/e8/sDC9c8FQ7r/MxyXRuum1Pw==",
          "dtype": "f8"
         },
         "y": {
          "bdata": "VdRaxKZK1j8beixTV5H1v3OKway8lt8/prqXUnO54z+gyNX5CsPuv1QvHlIU0dQ/THCEdxUqDcBFTvcIo1biP/Yx6u8dMN6/+xXL+cCpyL90oHYIIQ7fv5DPYslqWuk/6r9fK6VP4T8heKkkPB3EP84O+4zG4tQ/hoeltT5j3L8lGh8aI5Drv8MfH4QPZem/KQU5ggfV5r8m6C16sXPvv9IenJW0bPk/T/8+sgJItz9FPqT75y/7v54D2sSupMM/TOb6PWkM9L8qmON/N4zkP8AAWBdby+s/Hhr4kL1E+j/thfe4BQTQPySJDBZX+P2/DYYEZgeM4j+OWxFKFn/vv2X1BqPF/Ns/38UBH5OABcDtT5OSyfzxP5DjO6WB5sW/FDN6oMuN4j90B1gV9DDbvxq14TLh/9s/4zF8cb/e4j9or8XQVOnRPxRya8N8KsE/atzEQMfs8T9pJBn5NnzzvzJ2dF9cvec/+Nsb8dv/+78FgC0o26nyv9U7yU7Jobw/8w9gIY0f9b+DoQ8Rz3TYvw==",
          "dtype": "f8"
         },
         "z": {
          "bdata": "HP83Z9efCEBE0l6OpZzPv2ulYoNCzQBAFhaPUQIz8D9Iu7XtO2H3v+RHLFFafsq/xCILEIuSEsCqcJU5X0jrv4YA6tpUX+w/czQK62yE9D+0rxGWMH39PyqY+zKGGghAb+3rc/cw5j8EqOBcvLD9v3CUj5bq5vA/b4TRBS53z7/MxUIckmT0vw9aosNG4d2/lDd/od8oA8BIc1oidj/Nv5VwFVohvu8/mJUn4lyZ4L+OFjYnGJ/5v4CxzVsBT5Y/0MQYkxhH0T/R0UF7LOPdP0WpMiQd8gJAkqW2ljat9D87oCudukbwv5C8H5Nz6se/wms/kUSM8D9iOQnn0JL8v8UwSeKnHfw/OmshMyjnAcCjZ8nvS7AIQDjG3f+VlgXAuOc5hJ7Qvb/bmArOdXXmvy9fBlo9AOM/Hc6IOWVc+j+f3c38rJ3Mv5ia6XYaNdq/IM31tMldA0CJaINjIvr8v8h6iIAcuv0/BoMFvUiyEsC/wVKrP6Ptv3hi4y8AMOq/9yXs5Pkh5L8tkTl1S0zRvw==",
          "dtype": "f8"
         }
        },
        {
         "colorscale": [
          [
           0,
           "#440154"
          ],
          [
           0.1111111111111111,
           "#482878"
          ],
          [
           0.2222222222222222,
           "#3e4989"
          ],
          [
           0.3333333333333333,
           "#31688e"
          ],
          [
           0.4444444444444444,
           "#26828e"
          ],
          [
           0.5555555555555556,
           "#1f9e89"
          ],
          [
           0.6666666666666666,
           "#35b779"
          ],
          [
           0.7777777777777778,
           "#6ece58"
          ],
          [
           0.8888888888888888,
           "#b5de2b"
          ],
          [
           1,
           "#fde725"
          ]
         ],
         "name": "Plan de régression",
         "opacity": 0.6,
         "type": "surface",
         "x": {
          "bdata": "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",
          "dtype": "f8",
          "shape": "20, 20"
         },
         "y": {
          "bdata": "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",
          "dtype": "f8",
          "shape": "20, 20"
         },
         "z": {
          "bdata": "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",
          "dtype": "f8",
          "shape": "20, 20"
         }
        }
       ],
       "layout": {
        "scene": {
         "xaxis": {
          "title": {
           "text": "X[:, 0]"
          }
         },
         "yaxis": {
          "title": {
           "text": "X[:, 1]"
          }
         },
         "zaxis": {
          "title": {
           "text": "y"
          }
         }
        },
        "template": {
         "data": {
          "bar": [
           {
            "error_x": {
             "color": "#2a3f5f"
            },
            "error_y": {
             "color": "#2a3f5f"
            },
            "marker": {
             "line": {
              "color": "#E5ECF6",
              "width": 0.5
             },
             "pattern": {
              "fillmode": "overlay",
              "size": 10,
              "solidity": 0.2
             }
            },
            "type": "bar"
           }
          ],
          "barpolar": [
           {
            "marker": {
             "line": {
              "color": "#E5ECF6",
              "width": 0.5
             },
             "pattern": {
              "fillmode": "overlay",
              "size": 10,
              "solidity": 0.2
             }
            },
            "type": "barpolar"
           }
          ],
          "carpet": [
           {
            "aaxis": {
             "endlinecolor": "#2a3f5f",
             "gridcolor": "white",
             "linecolor": "white",
             "minorgridcolor": "white",
             "startlinecolor": "#2a3f5f"
            },
            "baxis": {
             "endlinecolor": "#2a3f5f",
             "gridcolor": "white",
             "linecolor": "white",
             "minorgridcolor": "white",
             "startlinecolor": "#2a3f5f"
            },
            "type": "carpet"
           }
          ],
          "choropleth": [
           {
            "colorbar": {
             "outlinewidth": 0,
             "ticks": ""
            },
            "type": "choropleth"
           }
          ],
          "contour": [
           {
            "colorbar": {
             "outlinewidth": 0,
             "ticks": ""
            },
            "colorscale": [
             [
              0,
              "#0d0887"
             ],
             [
              0.1111111111111111,
              "#46039f"
             ],
             [
              0.2222222222222222,
              "#7201a8"
             ],
             [
              0.3333333333333333,
              "#9c179e"
             ],
             [
              0.4444444444444444,
              "#bd3786"
             ],
             [
              0.5555555555555556,
              "#d8576b"
             ],
             [
              0.6666666666666666,
              "#ed7953"
             ],
             [
              0.7777777777777778,
              "#fb9f3a"
             ],
             [
              0.8888888888888888,
              "#fdca26"
             ],
             [
              1,
              "#f0f921"
             ]
            ],
            "type": "contour"
           }
          ],
          "contourcarpet": [
           {
            "colorbar": {
             "outlinewidth": 0,
             "ticks": ""
            },
            "type": "contourcarpet"
           }
          ],
          "heatmap": [
           {
            "colorbar": {
             "outlinewidth": 0,
             "ticks": ""
            },
            "colorscale": [
             [
              0,
              "#0d0887"
             ],
             [
              0.1111111111111111,
              "#46039f"
             ],
             [
              0.2222222222222222,
              "#7201a8"
             ],
             [
              0.3333333333333333,
              "#9c179e"
             ],
             [
              0.4444444444444444,
              "#bd3786"
             ],
             [
              0.5555555555555556,
              "#d8576b"
             ],
             [
              0.6666666666666666,
              "#ed7953"
             ],
             [
              0.7777777777777778,
              "#fb9f3a"
             ],
             [
              0.8888888888888888,
              "#fdca26"
             ],
             [
              1,
              "#f0f921"
             ]
            ],
            "type": "heatmap"
           }
          ],
          "histogram": [
           {
            "marker": {
             "pattern": {
              "fillmode": "overlay",
              "size": 10,
              "solidity": 0.2
             }
            },
            "type": "histogram"
           }
          ],
          "histogram2d": [
           {
            "colorbar": {
             "outlinewidth": 0,
             "ticks": ""
            },
            "colorscale": [
             [
              0,
              "#0d0887"
             ],
             [
              0.1111111111111111,
              "#46039f"
             ],
             [
              0.2222222222222222,
              "#7201a8"
             ],
             [
              0.3333333333333333,
              "#9c179e"
             ],
             [
              0.4444444444444444,
              "#bd3786"
             ],
             [
              0.5555555555555556,
              "#d8576b"
             ],
             [
              0.6666666666666666,
              "#ed7953"
             ],
             [
              0.7777777777777778,
              "#fb9f3a"
             ],
             [
              0.8888888888888888,
              "#fdca26"
             ],
             [
              1,
              "#f0f921"
             ]
            ],
            "type": "histogram2d"
           }
          ],
          "histogram2dcontour": [
           {
            "colorbar": {
             "outlinewidth": 0,
             "ticks": ""
            },
            "colorscale": [
             [
              0,
              "#0d0887"
             ],
             [
              0.1111111111111111,
              "#46039f"
             ],
             [
              0.2222222222222222,
              "#7201a8"
             ],
             [
              0.3333333333333333,
              "#9c179e"
             ],
             [
              0.4444444444444444,
              "#bd3786"
             ],
             [
              0.5555555555555556,
              "#d8576b"
             ],
             [
              0.6666666666666666,
              "#ed7953"
             ],
             [
              0.7777777777777778,
              "#fb9f3a"
             ],
             [
              0.8888888888888888,
              "#fdca26"
             ],
             [
              1,
              "#f0f921"
             ]
            ],
            "type": "histogram2dcontour"
           }
          ],
          "mesh3d": [
           {
            "colorbar": {
             "outlinewidth": 0,
             "ticks": ""
            },
            "type": "mesh3d"
           }
          ],
          "parcoords": [
           {
            "line": {
             "colorbar": {
              "outlinewidth": 0,
              "ticks": ""
             }
            },
            "type": "parcoords"
           }
          ],
          "pie": [
           {
            "automargin": true,
            "type": "pie"
           }
          ],
          "scatter": [
           {
            "fillpattern": {
             "fillmode": "overlay",
             "size": 10,
             "solidity": 0.2
            },
            "type": "scatter"
           }
          ],
          "scatter3d": [
           {
            "line": {
             "colorbar": {
              "outlinewidth": 0,
              "ticks": ""
             }
            },
            "marker": {
             "colorbar": {
              "outlinewidth": 0,
              "ticks": ""
             }
            },
            "type": "scatter3d"
           }
          ],
          "scattercarpet": [
           {
            "marker": {
             "colorbar": {
              "outlinewidth": 0,
              "ticks": ""
             }
            },
            "type": "scattercarpet"
           }
          ],
          "scattergeo": [
           {
            "marker": {
             "colorbar": {
              "outlinewidth": 0,
              "ticks": ""
             }
            },
            "type": "scattergeo"
           }
          ],
          "scattergl": [
           {
            "marker": {
             "colorbar": {
              "outlinewidth": 0,
              "ticks": ""
             }
            },
            "type": "scattergl"
           }
          ],
          "scattermap": [
           {
            "marker": {
             "colorbar": {
              "outlinewidth": 0,
              "ticks": ""
             }
            },
            "type": "scattermap"
           }
          ],
          "scattermapbox": [
           {
            "marker": {
             "colorbar": {
              "outlinewidth": 0,
              "ticks": ""
             }
            },
            "type": "scattermapbox"
           }
          ],
          "scatterpolar": [
           {
            "marker": {
             "colorbar": {
              "outlinewidth": 0,
              "ticks": ""
             }
            },
            "type": "scatterpolar"
           }
          ],
          "scatterpolargl": [
           {
            "marker": {
             "colorbar": {
              "outlinewidth": 0,
              "ticks": ""
             }
            },
            "type": "scatterpolargl"
           }
          ],
          "scatterternary": [
           {
            "marker": {
             "colorbar": {
              "outlinewidth": 0,
              "ticks": ""
             }
            },
            "type": "scatterternary"
           }
          ],
          "surface": [
           {
            "colorbar": {
             "outlinewidth": 0,
             "ticks": ""
            },
            "colorscale": [
             [
              0,
              "#0d0887"
             ],
             [
              0.1111111111111111,
              "#46039f"
             ],
             [
              0.2222222222222222,
              "#7201a8"
             ],
             [
              0.3333333333333333,
              "#9c179e"
             ],
             [
              0.4444444444444444,
              "#bd3786"
             ],
             [
              0.5555555555555556,
              "#d8576b"
             ],
             [
              0.6666666666666666,
              "#ed7953"
             ],
             [
              0.7777777777777778,
              "#fb9f3a"
             ],
             [
              0.8888888888888888,
              "#fdca26"
             ],
             [
              1,
              "#f0f921"
             ]
            ],
            "type": "surface"
           }
          ],
          "table": [
           {
            "cells": {
             "fill": {
              "color": "#EBF0F8"
             },
             "line": {
              "color": "white"
             }
            },
            "header": {
             "fill": {
              "color": "#C8D4E3"
             },
             "line": {
              "color": "white"
             }
            },
            "type": "table"
           }
          ]
         },
         "layout": {
          "annotationdefaults": {
           "arrowcolor": "#2a3f5f",
           "arrowhead": 0,
           "arrowwidth": 1
          },
          "autotypenumbers": "strict",
          "coloraxis": {
           "colorbar": {
            "outlinewidth": 0,
            "ticks": ""
           }
          },
          "colorscale": {
           "diverging": [
            [
             0,
             "#8e0152"
            ],
            [
             0.1,
             "#c51b7d"
            ],
            [
             0.2,
             "#de77ae"
            ],
            [
             0.3,
             "#f1b6da"
            ],
            [
             0.4,
             "#fde0ef"
            ],
            [
             0.5,
             "#f7f7f7"
            ],
            [
             0.6,
             "#e6f5d0"
            ],
            [
             0.7,
             "#b8e186"
            ],
            [
             0.8,
             "#7fbc41"
            ],
            [
             0.9,
             "#4d9221"
            ],
            [
             1,
             "#276419"
            ]
           ],
           "sequential": [
            [
             0,
             "#0d0887"
            ],
            [
             0.1111111111111111,
             "#46039f"
            ],
            [
             0.2222222222222222,
             "#7201a8"
            ],
            [
             0.3333333333333333,
             "#9c179e"
            ],
            [
             0.4444444444444444,
             "#bd3786"
            ],
            [
             0.5555555555555556,
             "#d8576b"
            ],
            [
             0.6666666666666666,
             "#ed7953"
            ],
            [
             0.7777777777777778,
             "#fb9f3a"
            ],
            [
             0.8888888888888888,
             "#fdca26"
            ],
            [
             1,
             "#f0f921"
            ]
           ],
           "sequentialminus": [
            [
             0,
             "#0d0887"
            ],
            [
             0.1111111111111111,
             "#46039f"
            ],
            [
             0.2222222222222222,
             "#7201a8"
            ],
            [
             0.3333333333333333,
             "#9c179e"
            ],
            [
             0.4444444444444444,
             "#bd3786"
            ],
            [
             0.5555555555555556,
             "#d8576b"
            ],
            [
             0.6666666666666666,
             "#ed7953"
            ],
            [
             0.7777777777777778,
             "#fb9f3a"
            ],
            [
             0.8888888888888888,
             "#fdca26"
            ],
            [
             1,
             "#f0f921"
            ]
           ]
          },
          "colorway": [
           "#636efa",
           "#EF553B",
           "#00cc96",
           "#ab63fa",
           "#FFA15A",
           "#19d3f3",
           "#FF6692",
           "#B6E880",
           "#FF97FF",
           "#FECB52"
          ],
          "font": {
           "color": "#2a3f5f"
          },
          "geo": {
           "bgcolor": "white",
           "lakecolor": "white",
           "landcolor": "#E5ECF6",
           "showlakes": true,
           "showland": true,
           "subunitcolor": "white"
          },
          "hoverlabel": {
           "align": "left"
          },
          "hovermode": "closest",
          "mapbox": {
           "style": "light"
          },
          "paper_bgcolor": "white",
          "plot_bgcolor": "#E5ECF6",
          "polar": {
           "angularaxis": {
            "gridcolor": "white",
            "linecolor": "white",
            "ticks": ""
           },
           "bgcolor": "#E5ECF6",
           "radialaxis": {
            "gridcolor": "white",
            "linecolor": "white",
            "ticks": ""
           }
          },
          "scene": {
           "xaxis": {
            "backgroundcolor": "#E5ECF6",
            "gridcolor": "white",
            "gridwidth": 2,
            "linecolor": "white",
            "showbackground": true,
            "ticks": "",
            "zerolinecolor": "white"
           },
           "yaxis": {
            "backgroundcolor": "#E5ECF6",
            "gridcolor": "white",
            "gridwidth": 2,
            "linecolor": "white",
            "showbackground": true,
            "ticks": "",
            "zerolinecolor": "white"
           },
           "zaxis": {
            "backgroundcolor": "#E5ECF6",
            "gridcolor": "white",
            "gridwidth": 2,
            "linecolor": "white",
            "showbackground": true,
            "ticks": "",
            "zerolinecolor": "white"
           }
          },
          "shapedefaults": {
           "line": {
            "color": "#2a3f5f"
           }
          },
          "ternary": {
           "aaxis": {
            "gridcolor": "white",
            "linecolor": "white",
            "ticks": ""
           },
           "baxis": {
            "gridcolor": "white",
            "linecolor": "white",
            "ticks": ""
           },
           "bgcolor": "#E5ECF6",
           "caxis": {
            "gridcolor": "white",
            "linecolor": "white",
            "ticks": ""
           }
          },
          "title": {
           "x": 0.05
          },
          "xaxis": {
           "automargin": true,
           "gridcolor": "white",
           "linecolor": "white",
           "ticks": "",
           "title": {
            "standoff": 15
           },
           "zerolinecolor": "white",
           "zerolinewidth": 2
          },
          "yaxis": {
           "automargin": true,
           "gridcolor": "white",
           "linecolor": "white",
           "ticks": "",
           "title": {
            "standoff": 15
           },
           "zerolinecolor": "white",
           "zerolinewidth": 2
          }
         }
        },
        "title": {
         "text": "Régression linéaire multiple 3D"
        }
       }
      }
     },
     "metadata": {},
     "output_type": "display_data"
    }
   ],
   "source": [
    "import numpy as np\n",
    "import plotly.graph_objects as go\n",
    "\n",
    "# Création d'une grille pour le plan\n",
    "x1_range = np.linspace(X[:,0].min(), X[:,0].max(), 20)\n",
    "x2_range = np.linspace(X[:,1].min(), X[:,1].max(), 20)\n",
    "x1_grid, x2_grid = np.meshgrid(x1_range, x2_range)\n",
    "y_grid = coef[0] + coef[1]*x1_grid + coef[2]*x2_grid\n",
    "\n",
    "# Scatter des points\n",
    "scatter = go.Scatter3d(\n",
    "    x=X[:,0],\n",
    "    y=X[:,1],\n",
    "    z=y,\n",
    "    mode='markers',\n",
    "    marker=dict(size=5, color='blue', opacity=0.8),\n",
    "    name='Données'\n",
    ")\n",
    "\n",
    "# Plan de régression\n",
    "surface = go.Surface(\n",
    "    x=x1_grid,\n",
    "    y=x2_grid,\n",
    "    z=y_grid,\n",
    "    colorscale='Viridis',\n",
    "    opacity=0.6,\n",
    "    name='Plan de régression'\n",
    ")\n",
    "\n",
    "# Figure\n",
    "fig = go.Figure(data=[scatter, surface])\n",
    "fig.update_layout(\n",
    "    scene=dict(\n",
    "        xaxis_title='X[:, 0]',\n",
    "        yaxis_title='X[:, 1]',\n",
    "        zaxis_title='y'\n",
    "    ),\n",
    "    title='Régression linéaire multiple 3D'\n",
    ")\n",
    "fig.show()\n"
   ]
  },
  {
   "cell_type": "markdown",
   "id": "6c4ff059",
   "metadata": {},
   "source": [
    "## Comment lire les paramètres d'une régression linéaire multiple ? "
   ]
  },
  {
   "cell_type": "code",
   "execution_count": 37,
   "id": "378b2ff3",
   "metadata": {},
   "outputs": [
    {
     "data": {
      "image/png": "[encoded data removed]",
      "text/plain": [
       "<Figure size 800x600 with 1 Axes>"
      ]
     },
     "metadata": {},
     "output_type": "display_data"
    }
   ],
   "source": [
    "labels = [r'$\\beta_0$', r'$\\beta_1$', r'$\\beta_2$']\n",
    "\n",
    "# Création de l'histogramme\n",
    "plt.figure(figsize=(8,6))\n",
    "plt.barh(labels, coef)\n",
    "\n",
    "plt.title('Valeurs des coefficients de la régression linéaire', fontsize=14)\n",
    "plt.ylabel('Coefficient', fontsize=12)\n",
    "plt.show()"
   ]
  },
  {
   "cell_type": "code",
   "execution_count": 38,
   "id": "3d1d5647",
   "metadata": {},
   "outputs": [
    {
     "data": {
      "application/vnd.jupyter.widget-view+json": {
       "model_id": "d95da11032e1404ea5663d98a267cb07",
       "version_major": 2,
       "version_minor": 0
      },
      "text/plain": [
       "interactive(children=(FloatSlider(value=0.0, description='B0', max=10.0, min=-10.0), FloatSlider(value=1.0, de…"
      ]
     },
     "metadata": {},
     "output_type": "display_data"
    }
   ],
   "source": [
    "from ipywidgets import interact\n",
    "import matplotlib.pyplot as plt\n",
    "import numpy as np\n",
    "\n",
    "# Limites fixes\n",
    "x0_min, x0_max = X[:,0].min(), X[:,0].max()\n",
    "x1_min, x1_max = X[:,1].min(), X[:,1].max()\n",
    "y_min, y_max = y.min(), y.max()\n",
    "\n",
    "def plot_three_views(B0=0, B1=1, B2=1):\n",
    "    fig = plt.figure(figsize=(18,5))\n",
    "    \n",
    "    # Création des grilles pour les 2D\n",
    "    x0_grid_1d = np.linspace(x0_min, x0_max, 100)\n",
    "    x1_grid_1d = np.linspace(x1_min, x1_max, 100)\n",
    "    \n",
    "    # ---- 2D X1 vs y ----\n",
    "    ax1 = fig.add_subplot(1,3,1)\n",
    "    ax1.scatter(X[:,0], y, color='blue')\n",
    "    # On fixe X2 à sa moyenne pour la prédiction\n",
    "    y_pred_x1 = B0 + B1*x0_grid_1d + B2*X[:,1].mean()\n",
    "    ax1.plot(x0_grid_1d, y_pred_x1, color='orange')\n",
    "    ax1.set_xlabel('X[:,0]')\n",
    "    ax1.set_ylabel('y')\n",
    "    ax1.set_title('X1 vs y')\n",
    "    ax1.set_xlim(x0_min, x0_max)\n",
    "    ax1.set_ylim(y_min, y_max)\n",
    "    \n",
    "    # ---- 2D X2 vs y ----\n",
    "    ax2 = fig.add_subplot(1,3,2)\n",
    "    ax2.scatter(X[:,1], y, color='blue')\n",
    "    # On fixe X1 à sa moyenne pour la prédiction\n",
    "    y_pred_x2 = B0 + B1*X[:,0].mean() + B2*x1_grid_1d\n",
    "    ax2.plot(x1_grid_1d, y_pred_x2, color='orange')\n",
    "    ax2.set_xlabel('X[:,1]')\n",
    "    ax2.set_ylabel('y')\n",
    "    ax2.set_title('X2 vs y')\n",
    "    ax2.set_xlim(x1_min, x1_max)\n",
    "    ax2.set_ylim(y_min, y_max)\n",
    "    \n",
    "    # ---- 3D ----\n",
    "    ax3 = fig.add_subplot(1,3,3, projection='3d')\n",
    "    ax3.scatter(X[:,0], X[:,1], y, color='blue')\n",
    "    \n",
    "    x0_range = np.linspace(x0_min, x0_max, 20)\n",
    "    x1_range = np.linspace(x1_min, x1_max, 20)\n",
    "    x0_grid, x1_grid = np.meshgrid(x0_range, x1_range)\n",
    "    y_grid = B0 + B1*x0_grid + B2*x1_grid\n",
    "    ax3.plot_surface(x0_grid, x1_grid, y_grid, color='orange', alpha=0.5)\n",
    "    \n",
    "    ax3.set_xlabel('X[:,0]')\n",
    "    ax3.set_ylabel('X[:,1]')\n",
    "    ax3.set_zlabel('y')\n",
    "    ax3.set_title('3D plan de régression')\n",
    "    ax3.set_xlim(x0_min, x0_max)\n",
    "    ax3.set_ylim(x1_min, x1_max)\n",
    "    ax3.set_zlim(y_min, y_max)\n",
    "    \n",
    "    plt.tight_layout()\n",
    "    plt.show()\n",
    "\n",
    "interact(plot_three_views,\n",
    "         B0=(-10, 10, 0.1),\n",
    "         B1=(-5, 5, 0.1),\n",
    "         B2=(-5, 5, 0.1));\n"
   ]
  },
  {
   "cell_type": "markdown",
   "id": "3c7bea7b",
   "metadata": {},
   "source": [
    "Le plot précédent nous permet d'illustrer le concept de dépendence conditionnelle : une augmentation d'une unité de X2 est associée à une augmentation de beta_2 de y2 **toutes choses étant égales par ailleurs**.\n",
    "\n",
    "\n",
    "D'autre part, il ne faut pas confondre corrélation et causalité :\n",
    "<p align=\"center\">\n",
    "  <img src=\"./img/chocolate_vs_nobel_prize.png\" alt=\"plot\" width=\"50%\"/>\n",
    "</p>\n",
    "\n",
    "Il s'agit d'un lien de corrélation trouvé dans les données, pas d'un lien causal."
   ]
  },
  {
   "cell_type": "markdown",
   "id": "6f72910d",
   "metadata": {},
   "source": [
    "# De l'importance du scaling pour pouvoir comparer les coefficients"
   ]
  },
  {
   "cell_type": "code",
   "execution_count": 23,
   "id": "c1c9f4ec",
   "metadata": {},
   "outputs": [
    {
     "data": {
      "image/png": "[encoded data removed]",
      "text/plain": [
       "<Figure size 800x600 with 1 Axes>"
      ]
     },
     "metadata": {},
     "output_type": "display_data"
    }
   ],
   "source": [
    "import numpy as np\n",
    "import matplotlib.pyplot as plt\n",
    "from sklearn.linear_model import LinearRegression\n",
    "from sklearn.preprocessing import StandardScaler\n",
    "\n",
    "# --- Génération de données ---\n",
    "np.random.seed(42)\n",
    "n_samples = 50\n",
    "\n",
    "x1 = np.linspace(1e3, 1e5, n_samples)       # grande échelle\n",
    "x2 = np.linspace(1, 10, n_samples)         # petite échelle\n",
    "noise = np.random.normal(0, 1e3, n_samples)\n",
    "\n",
    "y = 3 * x1 + 2 * x2 + 5 + noise\n",
    "X = np.vstack([x1, x2]).T\n",
    "\n",
    "# --- Modèle sans scaling ---\n",
    "model_raw = LinearRegression()\n",
    "model_raw.fit(X, y)\n",
    "coef_raw = np.hstack([model_raw.intercept_, model_raw.coef_])\n",
    "\n",
    "# --- Modèle avec scaling ---\n",
    "scaler = StandardScaler()\n",
    "X_scaled = scaler.fit_transform(X)\n",
    "\n",
    "model_scaled = LinearRegression()\n",
    "model_scaled.fit(X_scaled, y)\n",
    "coef_scaled = np.hstack([model_scaled.intercept_, model_scaled.coef_])\n",
    "\n",
    "# --- Plot comparatif ---\n",
    "labels = [\"Intercept\", \"x1\", \"x2\"]\n",
    "x = np.arange(len(labels))\n",
    "width = 0.35\n",
    "\n",
    "fig, ax = plt.subplots(figsize=(8,6))\n",
    "ax.bar(x - width/2, np.abs(coef_raw), width, label=\"Sans scaling\", color='skyblue')\n",
    "ax.bar(x + width/2, np.abs(coef_scaled), width, label=\"Avec scaling\", color='salmon')\n",
    "\n",
    "ax.set_xticks(x)\n",
    "ax.set_xticklabels(labels)\n",
    "ax.set_ylabel(\"Valeurs absolues des coefficients (log scale)\")\n",
    "ax.set_yscale(\"log\")  # <-- log scale\n",
    "ax.set_title(\"Impact du scaling des variables sur les coefficients\")\n",
    "ax.legend()\n",
    "plt.tight_layout()\n",
    "plt.show()\n"
   ]
  },
  {
   "cell_type": "markdown",
   "id": "9913f189",
   "metadata": {},
   "source": [
    "# Limitations du modèle de régressions linéaires multiples\n",
    "\n",
    "- ne gère que les relations linéaires (assez évident ...)\n",
    "- plus difficile à visualiser\n",
    "- risque de sur-apprentissage\n",
    "- multicolinéarité"
   ]
  },
  {
   "cell_type": "markdown",
   "id": "84e65ad4",
   "metadata": {},
   "source": [
    "- Génération & viz du jeu de données avec 2 variables \n",
    "- Descente de gradient et plan de régression\n",
    "- Jeu de données avec 5 variables\n",
    "- pros & cons\n",
    "- problème de multicoloniératité\n",
    "- lasso et ridge\n",
    "- variable quantitative et qualitative (one hot et ordinal)"
   ]
  },
  {
   "cell_type": "markdown",
   "id": "eec4ecb4",
   "metadata": {},
   "source": [
    "### Ridge regression\n",
    "\n",
    "$$\n",
    "\\hat{\\beta}^{\\text{ridge}} \n",
    "= \\underset{\\beta}{\\arg\\min} \\; \n",
    "\\left\\{ \n",
    "\\| y - X\\beta \\|_2^2 + \\lambda \\| \\beta \\|_2^2 \n",
    "\\right\\}\n",
    "$$\n",
    "\n",
    "avec \n",
    "\n",
    "$$\n",
    "\\| \\beta \\|_2^2 = \\sum_{j=1}^p \\beta_j^2\n",
    "$$\n",
    "\n",
    "---\n",
    "\n",
    "### Lasso regression\n",
    "\n",
    "$$\n",
    "\\hat{\\beta}^{\\text{lasso}} \n",
    "= \\underset{\\beta}{\\arg\\min} \\; \n",
    "\\left\\{ \n",
    "\\| y - X\\beta \\|_2^2 + \\lambda \\| \\beta \\|_1 \n",
    "\\right\\}\n",
    "$$\n",
    "\n",
    "avec \n",
    "\n",
    "$$\n",
    "\\| \\beta \\|_1 = \\sum_{j=1}^p |\\beta_j|\n",
    "$$\n"
   ]
  },
  {
   "cell_type": "code",
   "execution_count": 39,
   "id": "2d3cd6bf",
   "metadata": {},
   "outputs": [
    {
     "data": {
      "image/png": "[encoded data removed]",
      "text/plain": [
       "<Figure size 1400x600 with 2 Axes>"
      ]
     },
     "metadata": {},
     "output_type": "display_data"
    }
   ],
   "source": [
    "import numpy as np\n",
    "import matplotlib.pyplot as plt\n",
    "from sklearn.linear_model import lasso_path, ridge_regression\n",
    "from sklearn.preprocessing import StandardScaler\n",
    "\n",
    "# --- Génération de données synthétiques ---\n",
    "np.random.seed(42)\n",
    "n_samples, n_features = 100, 10\n",
    "X = np.random.randn(n_samples, n_features)\n",
    "coef_true = np.zeros(n_features)\n",
    "coef_true[0:3] = [2, -1, 0.5]  # seules 3 variables sont utiles\n",
    "y = X @ coef_true + np.random.normal(0, 0.5, n_samples)\n",
    "\n",
    "# Standardisation\n",
    "scaler = StandardScaler()\n",
    "X_scaled = scaler.fit_transform(X)\n",
    "\n",
    "# --- Lasso paths ---\n",
    "alphas_lasso, coefs_lasso, _ = lasso_path(X_scaled, y, alphas=np.logspace(-3, 1, 50))\n",
    "\n",
    "# --- Ridge paths ---\n",
    "alphas_ridge = np.logspace(-3, 3, 50)\n",
    "coefs_ridge = []\n",
    "for a in alphas_ridge:\n",
    "    coef = ridge_regression(X_scaled, y, alpha=a)\n",
    "    coefs_ridge.append(coef)\n",
    "coefs_ridge = np.array(coefs_ridge).T  # shape (n_features, n_alphas)\n",
    "\n",
    "# --- Plot ---\n",
    "fig, axes = plt.subplots(1, 2, figsize=(14,6), sharey=True)\n",
    "\n",
    "# Lasso\n",
    "for i in range(coefs_lasso.shape[0]):\n",
    "    axes[0].plot(alphas_lasso, coefs_lasso[i], label=f'Coef {i}')\n",
    "axes[0].set_xscale(\"log\")\n",
    "axes[0].set_xlabel(\"Alpha (log scale)\")\n",
    "axes[0].set_ylabel(\"Coefficient value\")\n",
    "axes[0].set_title(\"Lasso coefficient paths\")\n",
    "axes[0].axhline(0, color='black', linewidth=0.8)\n",
    "axes[0].legend(ncol=2, fontsize=8)\n",
    "\n",
    "# Ridge\n",
    "for i in range(coefs_ridge.shape[0]):\n",
    "    axes[1].plot(alphas_ridge, coefs_ridge[i], label=f'Coef {i}')\n",
    "axes[1].set_xscale(\"log\")\n",
    "axes[1].set_xlabel(\"Alpha (log scale)\")\n",
    "axes[1].set_title(\"Ridge coefficient paths\")\n",
    "axes[1].axhline(0, color='black', linewidth=0.8)\n",
    "axes[1].legend(ncol=2, fontsize=8)\n",
    "\n",
    "plt.suptitle(\"Coefficient paths for Lasso and Ridge\", fontsize=14)\n",
    "plt.tight_layout()\n",
    "plt.show()\n"
   ]
  },
  {
   "cell_type": "markdown",
   "id": "1ded3b58",
   "metadata": {},
   "source": [
    "<p align=\"center\">\n",
    "  <img src=\"./img/lasso_ridge_path.png\" alt=\"plot\" width=\"50%\"/>\n",
    "</p>"
   ]
  },
  {
   "cell_type": "markdown",
   "id": "b59a9762",
   "metadata": {},
   "source": [
    "# PCA / Variables qualitatives"
   ]
  },
  {
   "cell_type": "code",
   "execution_count": null,
   "id": "bdbd9ae0",
   "metadata": {},
   "outputs": [],
   "source": []
  },
  {
   "cell_type": "markdown",
   "id": "851e4bea",
   "metadata": {},
   "source": [
    "## Ressources : \n",
    "\n",
    "- [Common pitfalls in interpreting linear regression coefficients](https://scikit-learn.org/stable/auto_examples/inspection/plot_linear_model_coefficient_interpretation.html), documentation scikit-learn"
   ]
  }
 ],
 "metadata": {
  "kernelspec": {
   "display_name": "base_ds",
   "language": "python",
   "name": "python3"
  },
  "language_info": {
   "codemirror_mode": {
    "name": "ipython",
    "version": 3
   },
   "file_extension": ".py",
   "mimetype": "text/x-python",
   "name": "python",
   "nbconvert_exporter": "python",
   "pygments_lexer": "ipython3",
   "version": "3.13.0"
  }
 },
 "nbformat": 4,
 "nbformat_minor": 5
}
