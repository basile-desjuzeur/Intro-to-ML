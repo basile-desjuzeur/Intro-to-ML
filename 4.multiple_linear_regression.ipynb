{
 "cells": [
  {
   "cell_type": "markdown",
   "id": "a1559062",
   "metadata": {},
   "source": [
    "# Régression linéaire multiple\n",
    "\n",
    "1. Corrigé du quizz\n",
    "2. Recap\n",
    "3. Régressions multiples\n",
    "\n",
    "On se place dans le même contexte que précédemment, simplement on utilise plusieurs variables explicatives.\n",
    "\n",
    "Matriciellement on se retrouve avec la configuration suivante : \n",
    "\n",
    "$$\n",
    "\\mathbf{y} = \\mathbf{X}\\boldsymbol{\\beta} + \\boldsymbol{\\varepsilon}, \\quad\n",
    "\\hat{\\boldsymbol{\\beta}} = (\\mathbf{X}^\\top \\mathbf{X})^{-1} \\mathbf{X}^\\top \\mathbf{y}\n",
    "$$\n",
    "\n",
    "$$\n",
    "\\mathbf{y} = (y_1, \\dots, y_n)^\\top, \\quad\n",
    "\\mathbf{X} = \n",
    "\\begin{bmatrix} \n",
    "1 & x_{11} & \\dots & x_{1p} \\\\ \n",
    "\\vdots & \\vdots & \\ddots & \\vdots \\\\ \n",
    "1 & x_{n1} & \\dots & x_{np} \n",
    "\\end{bmatrix}, \\quad\n",
    "\\boldsymbol{\\beta} = (\\beta_0, \\dots, \\beta_p)^\\top, \\quad\n",
    "\\boldsymbol{\\varepsilon} = (\\varepsilon_1, \\dots, \\varepsilon_n)^\\top\n",
    "$$\n",
    "\n"
   ]
  },
  {
   "cell_type": "markdown",
   "id": "319ac1dc",
   "metadata": {},
   "source": [
    "## Génération d'un jeu de données"
   ]
  },
  {
   "cell_type": "code",
   "execution_count": 1,
   "id": "f5a44f74",
   "metadata": {},
   "outputs": [
    {
     "data": {
      "application/vnd.plotly.v1+json": {
       "config": {
        "plotlyServerURL": "https://plot.ly"
       },
       "data": [
        {
         "marker": {
          "color": {
           "bdata": "o54vM2l84T8sOXyF79jnvwJp9oUpJOI/H10XzNWD/7+Qy+Sl0H3yv+QY3/dnmPi/hEhRXcQR/D9migacomsEQPz6Yop4Z9g/ni3jpVEh/j/O96OMA68DQAqUFtXCxbC/PuQcsm6xyT+3kbFt74v9v7YWIsloudu/gNR39Tx36j8EbeCbBJHsP7Kfw4XT+uw/WlAFkHh87D+7/m8yG2/wPxErVkPkffg/ks7swckW678gAcHp6Sm8vwW1vSc8KQNAAE62HA2Nej9aSXFvUVH4P+lFrgjyqQLA1+3TUc2E6z/PnQx2s9PvP9h8Kb7+Cw3AICAM0FplxL/q/WbcdObkP/Hj3DONCgHAlZysBk3P+j+OuNsBNTjTv0p3SIN8xPe/ZRVdScJw8D8ZK0g1ufnuv37EvnMDZvW/njvUIQsSDsBhNZ9zDl7Mv343zbVBNwNAmlxM4vrzAMA26Fss+ucGwFuhdiJcc/E/OH1X1BN38783KlOhZEbrv2gKubJyWAHA6bf/stJfAsCwusXQU9yyPw==",
           "dtype": "f8"
          },
          "colorscale": [
           [
            0,
            "#440154"
           ],
           [
            0.1111111111111111,
            "#482878"
           ],
           [
            0.2222222222222222,
            "#3e4989"
           ],
           [
            0.3333333333333333,
            "#31688e"
           ],
           [
            0.4444444444444444,
            "#26828e"
           ],
           [
            0.5555555555555556,
            "#1f9e89"
           ],
           [
            0.6666666666666666,
            "#35b779"
           ],
           [
            0.7777777777777778,
            "#6ece58"
           ],
           [
            0.8888888888888888,
            "#b5de2b"
           ],
           [
            1,
            "#fde725"
           ]
          ],
          "opacity": 0.8,
          "size": 5
         },
         "mode": "markers",
         "type": "scatter3d",
         "x": {
          "bdata": "3nnYnii05L8KB5vNhwPLvwamYvRL1vG/yl5rMjBT1b8M6YeBobDkP8jxBPO9tK6/7XDx2jn59D+OpuDei33Uv9nCga1Lf/W/+EG2hhfQ6j92SIoY6OsJQCZvXrtOm9q/9NPALVuc7D/66FwF5/nxv3jW75F3ta+/IgXre8293T/eSYOLA/jsP+Wm5KONg/c/S895Dr9z1D/FfSScgmjUvw3hLyTA6ug/zS/Rm3Z81r9/WJr0Qt7gvzo9wDe3CO8/mvwdcsLF8j/I+VIdh0K3Pyw2dBvpSfa/+gqBwaaW3b/R4GrFrG3jv5M1EvIP2/q/5GC93Loc6b/wGQ/S6smvP1fRg/bsQN+/GETaCOeb8T9kEm5X55n5v5DnB4ojJe2/hEZygrWS2r/g5zSZAKS0v05xVIbFCvC/QAD6A885kb8h0b5CQbb3vxoGhRwayPC/+dGK58pN9b847CqCnkrJv/6M4n6qjuY/NMdsloOOyz9OtdF6cpW4Pyyg0xWlsuG/inqfDBMX4T9B5u9fllD9Pw==",
          "dtype": "f8"
         },
         "y": {
          "bdata": "kRzxRThs4L9vDeI0cFOTP9rFEwATp/a/kh2SqC2I6L8Va1bTsAD6vyq09gdpPOm/sE+UE+QY/T83jWy05qj9P2K26Pt9lOQ/J+3pEfCr9D8SmtU9+gb+P2rnkizSKsS/FAUR3ENu1j9TjlqtvXGnP1gMnv9DGuI/eHIn5tPTwz9mFSZhJl7Qv/EWU4Bg6tG/dspv3wRP5D90ihV+eEPsPxDMFgXci+G/xFarT8Erzr8aGeZkTJT4v9tOq9/eO+0/aI+Y2FKq5r9j/m5kPyHoPw/GP1YJU+C/nl9BxM2s5r+dFmfSNQDxP0cFyhV4WgHApByM6Bs417/yQ6RjNJr4v4Zg4MTLieS/UrVromFW1T+POVwoxN7Tv4iC6/dOuva/GeN45WR24T+IAzMs8424Pw1qN8SprfW/UlVwlImG8L+eUoAg3VDUPzGVeQiLs9k/xLZlah/t+r/GngsDwd/5v6W9l0QQ4jy/csZmPLi69L+LHe46hciLP+eWZ33esOa/QbI3MEMD6L8PcRX59BTlPw==",
          "dtype": "f8"
         },
         "z": {
          "bdata": "o54vM2l84T8sOXyF79jnvwJp9oUpJOI/H10XzNWD/7+Qy+Sl0H3yv+QY3/dnmPi/hEhRXcQR/D9migacomsEQPz6Yop4Z9g/ni3jpVEh/j/O96OMA68DQAqUFtXCxbC/PuQcsm6xyT+3kbFt74v9v7YWIsloudu/gNR39Tx36j8EbeCbBJHsP7Kfw4XT+uw/WlAFkHh87D+7/m8yG2/wPxErVkPkffg/ks7swckW678gAcHp6Sm8vwW1vSc8KQNAAE62HA2Nej9aSXFvUVH4P+lFrgjyqQLA1+3TUc2E6z/PnQx2s9PvP9h8Kb7+Cw3AICAM0FplxL/q/WbcdObkP/Hj3DONCgHAlZysBk3P+j+OuNsBNTjTv0p3SIN8xPe/ZRVdScJw8D8ZK0g1ufnuv37EvnMDZvW/njvUIQsSDsBhNZ9zDl7Mv343zbVBNwNAmlxM4vrzAMA26Fss+ucGwFuhdiJcc/E/OH1X1BN38783KlOhZEbrv2gKubJyWAHA6bf/stJfAsCwusXQU9yyPw==",
          "dtype": "f8"
         }
        }
       ],
       "layout": {
        "scene": {
         "xaxis": {
          "title": {
           "text": "âge du consommateur"
          }
         },
         "yaxis": {
          "title": {
           "text": "salaire"
          }
         },
         "zaxis": {
          "title": {
           "text": "CA"
          }
         }
        },
        "template": {
         "data": {
          "bar": [
           {
            "error_x": {
             "color": "#2a3f5f"
            },
            "error_y": {
             "color": "#2a3f5f"
            },
            "marker": {
             "line": {
              "color": "#E5ECF6",
              "width": 0.5
             },
             "pattern": {
              "fillmode": "overlay",
              "size": 10,
              "solidity": 0.2
             }
            },
            "type": "bar"
           }
          ],
          "barpolar": [
           {
            "marker": {
             "line": {
              "color": "#E5ECF6",
              "width": 0.5
             },
             "pattern": {
              "fillmode": "overlay",
              "size": 10,
              "solidity": 0.2
             }
            },
            "type": "barpolar"
           }
          ],
          "carpet": [
           {
            "aaxis": {
             "endlinecolor": "#2a3f5f",
             "gridcolor": "white",
             "linecolor": "white",
             "minorgridcolor": "white",
             "startlinecolor": "#2a3f5f"
            },
            "baxis": {
             "endlinecolor": "#2a3f5f",
             "gridcolor": "white",
             "linecolor": "white",
             "minorgridcolor": "white",
             "startlinecolor": "#2a3f5f"
            },
            "type": "carpet"
           }
          ],
          "choropleth": [
           {
            "colorbar": {
             "outlinewidth": 0,
             "ticks": ""
            },
            "type": "choropleth"
           }
          ],
          "contour": [
           {
            "colorbar": {
             "outlinewidth": 0,
             "ticks": ""
            },
            "colorscale": [
             [
              0,
              "#0d0887"
             ],
             [
              0.1111111111111111,
              "#46039f"
             ],
             [
              0.2222222222222222,
              "#7201a8"
             ],
             [
              0.3333333333333333,
              "#9c179e"
             ],
             [
              0.4444444444444444,
              "#bd3786"
             ],
             [
              0.5555555555555556,
              "#d8576b"
             ],
             [
              0.6666666666666666,
              "#ed7953"
             ],
             [
              0.7777777777777778,
              "#fb9f3a"
             ],
             [
              0.8888888888888888,
              "#fdca26"
             ],
             [
              1,
              "#f0f921"
             ]
            ],
            "type": "contour"
           }
          ],
          "contourcarpet": [
           {
            "colorbar": {
             "outlinewidth": 0,
             "ticks": ""
            },
            "type": "contourcarpet"
           }
          ],
          "heatmap": [
           {
            "colorbar": {
             "outlinewidth": 0,
             "ticks": ""
            },
            "colorscale": [
             [
              0,
              "#0d0887"
             ],
             [
              0.1111111111111111,
              "#46039f"
             ],
             [
              0.2222222222222222,
              "#7201a8"
             ],
             [
              0.3333333333333333,
              "#9c179e"
             ],
             [
              0.4444444444444444,
              "#bd3786"
             ],
             [
              0.5555555555555556,
              "#d8576b"
             ],
             [
              0.6666666666666666,
              "#ed7953"
             ],
             [
              0.7777777777777778,
              "#fb9f3a"
             ],
             [
              0.8888888888888888,
              "#fdca26"
             ],
             [
              1,
              "#f0f921"
             ]
            ],
            "type": "heatmap"
           }
          ],
          "histogram": [
           {
            "marker": {
             "pattern": {
              "fillmode": "overlay",
              "size": 10,
              "solidity": 0.2
             }
            },
            "type": "histogram"
           }
          ],
          "histogram2d": [
           {
            "colorbar": {
             "outlinewidth": 0,
             "ticks": ""
            },
            "colorscale": [
             [
              0,
              "#0d0887"
             ],
             [
              0.1111111111111111,
              "#46039f"
             ],
             [
              0.2222222222222222,
              "#7201a8"
             ],
             [
              0.3333333333333333,
              "#9c179e"
             ],
             [
              0.4444444444444444,
              "#bd3786"
             ],
             [
              0.5555555555555556,
              "#d8576b"
             ],
             [
              0.6666666666666666,
              "#ed7953"
             ],
             [
              0.7777777777777778,
              "#fb9f3a"
             ],
             [
              0.8888888888888888,
              "#fdca26"
             ],
             [
              1,
              "#f0f921"
             ]
            ],
            "type": "histogram2d"
           }
          ],
          "histogram2dcontour": [
           {
            "colorbar": {
             "outlinewidth": 0,
             "ticks": ""
            },
            "colorscale": [
             [
              0,
              "#0d0887"
             ],
             [
              0.1111111111111111,
              "#46039f"
             ],
             [
              0.2222222222222222,
              "#7201a8"
             ],
             [
              0.3333333333333333,
              "#9c179e"
             ],
             [
              0.4444444444444444,
              "#bd3786"
             ],
             [
              0.5555555555555556,
              "#d8576b"
             ],
             [
              0.6666666666666666,
              "#ed7953"
             ],
             [
              0.7777777777777778,
              "#fb9f3a"
             ],
             [
              0.8888888888888888,
              "#fdca26"
             ],
             [
              1,
              "#f0f921"
             ]
            ],
            "type": "histogram2dcontour"
           }
          ],
          "mesh3d": [
           {
            "colorbar": {
             "outlinewidth": 0,
             "ticks": ""
            },
            "type": "mesh3d"
           }
          ],
          "parcoords": [
           {
            "line": {
             "colorbar": {
              "outlinewidth": 0,
              "ticks": ""
             }
            },
            "type": "parcoords"
           }
          ],
          "pie": [
           {
            "automargin": true,
            "type": "pie"
           }
          ],
          "scatter": [
           {
            "fillpattern": {
             "fillmode": "overlay",
             "size": 10,
             "solidity": 0.2
            },
            "type": "scatter"
           }
          ],
          "scatter3d": [
           {
            "line": {
             "colorbar": {
              "outlinewidth": 0,
              "ticks": ""
             }
            },
            "marker": {
             "colorbar": {
              "outlinewidth": 0,
              "ticks": ""
             }
            },
            "type": "scatter3d"
           }
          ],
          "scattercarpet": [
           {
            "marker": {
             "colorbar": {
              "outlinewidth": 0,
              "ticks": ""
             }
            },
            "type": "scattercarpet"
           }
          ],
          "scattergeo": [
           {
            "marker": {
             "colorbar": {
              "outlinewidth": 0,
              "ticks": ""
             }
            },
            "type": "scattergeo"
           }
          ],
          "scattergl": [
           {
            "marker": {
             "colorbar": {
              "outlinewidth": 0,
              "ticks": ""
             }
            },
            "type": "scattergl"
           }
          ],
          "scattermap": [
           {
            "marker": {
             "colorbar": {
              "outlinewidth": 0,
              "ticks": ""
             }
            },
            "type": "scattermap"
           }
          ],
          "scattermapbox": [
           {
            "marker": {
             "colorbar": {
              "outlinewidth": 0,
              "ticks": ""
             }
            },
            "type": "scattermapbox"
           }
          ],
          "scatterpolar": [
           {
            "marker": {
             "colorbar": {
              "outlinewidth": 0,
              "ticks": ""
             }
            },
            "type": "scatterpolar"
           }
          ],
          "scatterpolargl": [
           {
            "marker": {
             "colorbar": {
              "outlinewidth": 0,
              "ticks": ""
             }
            },
            "type": "scatterpolargl"
           }
          ],
          "scatterternary": [
           {
            "marker": {
             "colorbar": {
              "outlinewidth": 0,
              "ticks": ""
             }
            },
            "type": "scatterternary"
           }
          ],
          "surface": [
           {
            "colorbar": {
             "outlinewidth": 0,
             "ticks": ""
            },
            "colorscale": [
             [
              0,
              "#0d0887"
             ],
             [
              0.1111111111111111,
              "#46039f"
             ],
             [
              0.2222222222222222,
              "#7201a8"
             ],
             [
              0.3333333333333333,
              "#9c179e"
             ],
             [
              0.4444444444444444,
              "#bd3786"
             ],
             [
              0.5555555555555556,
              "#d8576b"
             ],
             [
              0.6666666666666666,
              "#ed7953"
             ],
             [
              0.7777777777777778,
              "#fb9f3a"
             ],
             [
              0.8888888888888888,
              "#fdca26"
             ],
             [
              1,
              "#f0f921"
             ]
            ],
            "type": "surface"
           }
          ],
          "table": [
           {
            "cells": {
             "fill": {
              "color": "#EBF0F8"
             },
             "line": {
              "color": "white"
             }
            },
            "header": {
             "fill": {
              "color": "#C8D4E3"
             },
             "line": {
              "color": "white"
             }
            },
            "type": "table"
           }
          ]
         },
         "layout": {
          "annotationdefaults": {
           "arrowcolor": "#2a3f5f",
           "arrowhead": 0,
           "arrowwidth": 1
          },
          "autotypenumbers": "strict",
          "coloraxis": {
           "colorbar": {
            "outlinewidth": 0,
            "ticks": ""
           }
          },
          "colorscale": {
           "diverging": [
            [
             0,
             "#8e0152"
            ],
            [
             0.1,
             "#c51b7d"
            ],
            [
             0.2,
             "#de77ae"
            ],
            [
             0.3,
             "#f1b6da"
            ],
            [
             0.4,
             "#fde0ef"
            ],
            [
             0.5,
             "#f7f7f7"
            ],
            [
             0.6,
             "#e6f5d0"
            ],
            [
             0.7,
             "#b8e186"
            ],
            [
             0.8,
             "#7fbc41"
            ],
            [
             0.9,
             "#4d9221"
            ],
            [
             1,
             "#276419"
            ]
           ],
           "sequential": [
            [
             0,
             "#0d0887"
            ],
            [
             0.1111111111111111,
             "#46039f"
            ],
            [
             0.2222222222222222,
             "#7201a8"
            ],
            [
             0.3333333333333333,
             "#9c179e"
            ],
            [
             0.4444444444444444,
             "#bd3786"
            ],
            [
             0.5555555555555556,
             "#d8576b"
            ],
            [
             0.6666666666666666,
             "#ed7953"
            ],
            [
             0.7777777777777778,
             "#fb9f3a"
            ],
            [
             0.8888888888888888,
             "#fdca26"
            ],
            [
             1,
             "#f0f921"
            ]
           ],
           "sequentialminus": [
            [
             0,
             "#0d0887"
            ],
            [
             0.1111111111111111,
             "#46039f"
            ],
            [
             0.2222222222222222,
             "#7201a8"
            ],
            [
             0.3333333333333333,
             "#9c179e"
            ],
            [
             0.4444444444444444,
             "#bd3786"
            ],
            [
             0.5555555555555556,
             "#d8576b"
            ],
            [
             0.6666666666666666,
             "#ed7953"
            ],
            [
             0.7777777777777778,
             "#fb9f3a"
            ],
            [
             0.8888888888888888,
             "#fdca26"
            ],
            [
             1,
             "#f0f921"
            ]
           ]
          },
          "colorway": [
           "#636efa",
           "#EF553B",
           "#00cc96",
           "#ab63fa",
           "#FFA15A",
           "#19d3f3",
           "#FF6692",
           "#B6E880",
           "#FF97FF",
           "#FECB52"
          ],
          "font": {
           "color": "#2a3f5f"
          },
          "geo": {
           "bgcolor": "white",
           "lakecolor": "white",
           "landcolor": "#E5ECF6",
           "showlakes": true,
           "showland": true,
           "subunitcolor": "white"
          },
          "hoverlabel": {
           "align": "left"
          },
          "hovermode": "closest",
          "mapbox": {
           "style": "light"
          },
          "paper_bgcolor": "white",
          "plot_bgcolor": "#E5ECF6",
          "polar": {
           "angularaxis": {
            "gridcolor": "white",
            "linecolor": "white",
            "ticks": ""
           },
           "bgcolor": "#E5ECF6",
           "radialaxis": {
            "gridcolor": "white",
            "linecolor": "white",
            "ticks": ""
           }
          },
          "scene": {
           "xaxis": {
            "backgroundcolor": "#E5ECF6",
            "gridcolor": "white",
            "gridwidth": 2,
            "linecolor": "white",
            "showbackground": true,
            "ticks": "",
            "zerolinecolor": "white"
           },
           "yaxis": {
            "backgroundcolor": "#E5ECF6",
            "gridcolor": "white",
            "gridwidth": 2,
            "linecolor": "white",
            "showbackground": true,
            "ticks": "",
            "zerolinecolor": "white"
           },
           "zaxis": {
            "backgroundcolor": "#E5ECF6",
            "gridcolor": "white",
            "gridwidth": 2,
            "linecolor": "white",
            "showbackground": true,
            "ticks": "",
            "zerolinecolor": "white"
           }
          },
          "shapedefaults": {
           "line": {
            "color": "#2a3f5f"
           }
          },
          "ternary": {
           "aaxis": {
            "gridcolor": "white",
            "linecolor": "white",
            "ticks": ""
           },
           "baxis": {
            "gridcolor": "white",
            "linecolor": "white",
            "ticks": ""
           },
           "bgcolor": "#E5ECF6",
           "caxis": {
            "gridcolor": "white",
            "linecolor": "white",
            "ticks": ""
           }
          },
          "title": {
           "x": 0.05
          },
          "xaxis": {
           "automargin": true,
           "gridcolor": "white",
           "linecolor": "white",
           "ticks": "",
           "title": {
            "standoff": 15
           },
           "zerolinecolor": "white",
           "zerolinewidth": 2
          },
          "yaxis": {
           "automargin": true,
           "gridcolor": "white",
           "linecolor": "white",
           "ticks": "",
           "title": {
            "standoff": 15
           },
           "zerolinecolor": "white",
           "zerolinewidth": 2
          }
         }
        },
        "title": {
         "text": "Jeu de données à trois dimensions"
        }
       }
      }
     },
     "metadata": {},
     "output_type": "display_data"
    }
   ],
   "source": [
    "import numpy as np \n",
    "import matplotlib.pyplot as plt\n",
    "from utils import generate_regression_data\n",
    "import plotly.graph_objects as go\n",
    "\n",
    "X, y, _ = generate_regression_data(n_samples=50, n_features=2, noise_std=1)\n",
    "\n",
    "fig = go.Figure(data=[go.Scatter3d(\n",
    "    x=X[:,0], \n",
    "    y=X[:,1], \n",
    "    z=y,      \n",
    "    mode='markers',\n",
    "    marker=dict(\n",
    "        size=5,\n",
    "        color=y,    # couleur selon y\n",
    "        colorscale='Viridis',\n",
    "        opacity=0.8\n",
    "    )\n",
    ")])\n",
    "\n",
    "fig.update_layout(\n",
    "    scene=dict(\n",
    "        xaxis_title='âge du consommateur',\n",
    "        yaxis_title='salaire',\n",
    "        zaxis_title='CA'\n",
    "    ),\n",
    "    title='Jeu de données à trois dimensions'\n",
    ")\n",
    "\n",
    "fig.show()\n"
   ]
  },
  {
   "cell_type": "code",
   "execution_count": 2,
   "id": "621c55cb",
   "metadata": {},
   "outputs": [
    {
     "data": {
      "image/png": "[encoded data removed]",
      "text/plain": [
       "<Figure size 640x480 with 3 Axes>"
      ]
     },
     "metadata": {},
     "output_type": "display_data"
    }
   ],
   "source": [
    "fig, axs = plt.subplots(1, 3)\n",
    "\n",
    "axs[0].scatter(X[:, 0], y)\n",
    "axs[0].set_xlabel(\"X1\")\n",
    "axs[0].set_ylabel(\"Y\")\n",
    "axs[1].scatter(X[:, 1], y)\n",
    "axs[1].set_xlabel(\"X2\")\n",
    "axs[1].set_ylabel(\"Y\")\n",
    "axs[2].scatter(X[:, 1], X[:, 0])\n",
    "axs[2].set_xlabel(\"X2\")\n",
    "axs[2].set_ylabel(\"X1\")\n",
    "plt.suptitle(\"Coupes 2D\")\n",
    "plt.tight_layout()\n",
    "plt.show();"
   ]
  },
  {
   "cell_type": "markdown",
   "id": "5fe75163",
   "metadata": {},
   "source": [
    "## Régression linéaire multivariée\n",
    "\n",
    "\n",
    "De la même manière que pour la régression simple, on cherche à minimiser la fonction d'erreur. Comme le jeu de données est petit, on va résoudre le problème algébraiquement. \n",
    "\n",
    "La solution est données par : \n",
    "\n",
    "$\n",
    "\\hat{\\boldsymbol{\\beta}} = (\\mathbf{X}^\\top \\mathbf{X})^{-1} \\mathbf{X}^\\top \\mathbf{y}\n",
    "$"
   ]
  },
  {
   "cell_type": "markdown",
   "id": "58e7517b",
   "metadata": {},
   "source": [
    "Un détour par l'algèbre linéaire s'impose pour comprendre l'intérêt de pinv ..."
   ]
  },
  {
   "cell_type": "code",
   "execution_count": 3,
   "id": "d66ff691",
   "metadata": {},
   "outputs": [
    {
     "data": {
      "text/plain": [
       "array([0.06970209, 0.30086157, 1.02511132])"
      ]
     },
     "execution_count": 3,
     "metadata": {},
     "output_type": "execute_result"
    }
   ],
   "source": [
    "def algebraic_resolution(X, y, fit_intercept=True):\n",
    "    \"\"\"\n",
    "    Résout le problème des moindres carrés pour une régression linéaire multiple.\n",
    "\n",
    "    Paramètres\n",
    "    ----------\n",
    "    X : numpy.ndarray, shape (n_samples, n_features)\n",
    "        Matrice des variables explicatives\n",
    "    y : numpy.ndarray, shape (n_samples,) ou (n_samples, 1)\n",
    "        Vecteur cible\n",
    "    fit_intercept : bool, default=True\n",
    "        Ajouter ou non un intercept (colonne de 1)\n",
    "\n",
    "    Retour\n",
    "    ------\n",
    "    parameters : numpy.ndarray\n",
    "        Coefficients estimés (intercept + beta si fit_intercept=True)\n",
    "    \"\"\"\n",
    "    X = np.array(X)\n",
    "    y = np.array(y).reshape(-1, 1)\n",
    "\n",
    "    if fit_intercept:\n",
    "        # Ajouter une colonne de 1 pour l'intercept\n",
    "        X = np.hstack([np.ones((X.shape[0], 1)), X])\n",
    "    \n",
    "    # Résolution analytique : beta = (X^T X)^(-1) X^T y\n",
    "    XtX = X.T @ X\n",
    "    Xty = X.T @ y\n",
    "    beta = np.linalg.pinv(XtX) @ Xty  # pseudo-inverse pour la stabilité\n",
    "\n",
    "    return beta.flatten()\n",
    "\n",
    "coef = algebraic_resolution(X, y, fit_intercept=True)\n",
    "coef"
   ]
  },
  {
   "cell_type": "code",
   "execution_count": 4,
   "id": "f7adf94b",
   "metadata": {},
   "outputs": [
    {
     "data": {
      "application/vnd.plotly.v1+json": {
       "config": {
        "plotlyServerURL": "https://plot.ly"
       },
       "data": [
        {
         "marker": {
          "color": "blue",
          "opacity": 0.8,
          "size": 5
         },
         "mode": "markers",
         "name": "Données",
         "type": "scatter3d",
         "x": {
          "bdata": "3nnYnii05L8KB5vNhwPLvwamYvRL1vG/yl5rMjBT1b8M6YeBobDkP8jxBPO9tK6/7XDx2jn59D+OpuDei33Uv9nCga1Lf/W/+EG2hhfQ6j92SIoY6OsJQCZvXrtOm9q/9NPALVuc7D/66FwF5/nxv3jW75F3ta+/IgXre8293T/eSYOLA/jsP+Wm5KONg/c/S895Dr9z1D/FfSScgmjUvw3hLyTA6ug/zS/Rm3Z81r9/WJr0Qt7gvzo9wDe3CO8/mvwdcsLF8j/I+VIdh0K3Pyw2dBvpSfa/+gqBwaaW3b/R4GrFrG3jv5M1EvIP2/q/5GC93Loc6b/wGQ/S6smvP1fRg/bsQN+/GETaCOeb8T9kEm5X55n5v5DnB4ojJe2/hEZygrWS2r/g5zSZAKS0v05xVIbFCvC/QAD6A885kb8h0b5CQbb3vxoGhRwayPC/+dGK58pN9b847CqCnkrJv/6M4n6qjuY/NMdsloOOyz9OtdF6cpW4Pyyg0xWlsuG/inqfDBMX4T9B5u9fllD9Pw==",
          "dtype": "f8"
         },
         "y": {
          "bdata": "kRzxRThs4L9vDeI0cFOTP9rFEwATp/a/kh2SqC2I6L8Va1bTsAD6vyq09gdpPOm/sE+UE+QY/T83jWy05qj9P2K26Pt9lOQ/J+3pEfCr9D8SmtU9+gb+P2rnkizSKsS/FAUR3ENu1j9TjlqtvXGnP1gMnv9DGuI/eHIn5tPTwz9mFSZhJl7Qv/EWU4Bg6tG/dspv3wRP5D90ihV+eEPsPxDMFgXci+G/xFarT8Erzr8aGeZkTJT4v9tOq9/eO+0/aI+Y2FKq5r9j/m5kPyHoPw/GP1YJU+C/nl9BxM2s5r+dFmfSNQDxP0cFyhV4WgHApByM6Bs417/yQ6RjNJr4v4Zg4MTLieS/UrVromFW1T+POVwoxN7Tv4iC6/dOuva/GeN45WR24T+IAzMs8424Pw1qN8SprfW/UlVwlImG8L+eUoAg3VDUPzGVeQiLs9k/xLZlah/t+r/GngsDwd/5v6W9l0QQ4jy/csZmPLi69L+LHe46hciLP+eWZ33esOa/QbI3MEMD6L8PcRX59BTlPw==",
          "dtype": "f8"
         },
         "z": {
          "bdata": "o54vM2l84T8sOXyF79jnvwJp9oUpJOI/H10XzNWD/7+Qy+Sl0H3yv+QY3/dnmPi/hEhRXcQR/D9migacomsEQPz6Yop4Z9g/ni3jpVEh/j/O96OMA68DQAqUFtXCxbC/PuQcsm6xyT+3kbFt74v9v7YWIsloudu/gNR39Tx36j8EbeCbBJHsP7Kfw4XT+uw/WlAFkHh87D+7/m8yG2/wPxErVkPkffg/ks7swckW678gAcHp6Sm8vwW1vSc8KQNAAE62HA2Nej9aSXFvUVH4P+lFrgjyqQLA1+3TUc2E6z/PnQx2s9PvP9h8Kb7+Cw3AICAM0FplxL/q/WbcdObkP/Hj3DONCgHAlZysBk3P+j+OuNsBNTjTv0p3SIN8xPe/ZRVdScJw8D8ZK0g1ufnuv37EvnMDZvW/njvUIQsSDsBhNZ9zDl7Mv343zbVBNwNAmlxM4vrzAMA26Fss+ucGwFuhdiJcc/E/OH1X1BN38783KlOhZEbrv2gKubJyWAHA6bf/stJfAsCwusXQU9yyPw==",
          "dtype": "f8"
         }
        },
        {
         "colorscale": [
          [
           0,
           "#440154"
          ],
          [
           0.1111111111111111,
           "#482878"
          ],
          [
           0.2222222222222222,
           "#3e4989"
          ],
          [
           0.3333333333333333,
           "#31688e"
          ],
          [
           0.4444444444444444,
           "#26828e"
          ],
          [
           0.5555555555555556,
           "#1f9e89"
          ],
          [
           0.6666666666666666,
           "#35b779"
          ],
          [
           0.7777777777777778,
           "#6ece58"
          ],
          [
           0.8888888888888888,
           "#b5de2b"
          ],
          [
           1,
           "#fde725"
          ]
         ],
         "name": "Plan de régression",
         "opacity": 0.6,
         "type": "surface",
         "x": {
          "bdata": "kzUS8g/b+r9/bolOs7b2v2qnAKtWkvK/rMDvDvTb7L+EMt7HOpPkv7hImQEDldi/yFjs5iAHwL/Y31k1xBvBPzwM0KhUH9k/RpR5m2PY5D9uIoviHCHtP0tYzhTrtPI/YR9XuEfZ9j915t9bpP36P4mtaP8AIv8/Trp40S6jAUDYHT0jXbUDQGKBAXWLxwVA7OTFxrnZB0B2SIoY6OsJQJM1EvIP2/q/f26JTrO29r9qpwCrVpLyv6zA7w702+y/hDLexzqT5L+4SJkBA5XYv8hY7OYgB8C/2N9ZNcQbwT88DNCoVB/ZP0aUeZtj2OQ/biKL4hwh7T9LWM4U67TyP2EfV7hH2fY/debfW6T9+j+JrWj/ACL/P066eNEuowFA2B09I121A0BigQF1i8cFQOzkxca52QdAdkiKGOjrCUCTNRLyD9v6v39uiU6ztva/aqcAq1aS8r+swO8O9Nvsv4Qy3sc6k+S/uEiZAQOV2L/IWOzmIAfAv9jfWTXEG8E/PAzQqFQf2T9GlHmbY9jkP24ii+IcIe0/S1jOFOu08j9hH1e4R9n2P3Xm31uk/fo/ia1o/wAi/z9OunjRLqMBQNgdPSNdtQNAYoEBdYvHBUDs5MXGudkHQHZIihjo6wlAkzUS8g/b+r9/bolOs7b2v2qnAKtWkvK/rMDvDvTb7L+EMt7HOpPkv7hImQEDldi/yFjs5iAHwL/Y31k1xBvBPzwM0KhUH9k/RpR5m2PY5D9uIoviHCHtP0tYzhTrtPI/YR9XuEfZ9j915t9bpP36P4mtaP8AIv8/Trp40S6jAUDYHT0jXbUDQGKBAXWLxwVA7OTFxrnZB0B2SIoY6OsJQJM1EvIP2/q/f26JTrO29r9qpwCrVpLyv6zA7w702+y/hDLexzqT5L+4SJkBA5XYv8hY7OYgB8C/2N9ZNcQbwT88DNCoVB/ZP0aUeZtj2OQ/biKL4hwh7T9LWM4U67TyP2EfV7hH2fY/debfW6T9+j+JrWj/ACL/P066eNEuowFA2B09I121A0BigQF1i8cFQOzkxca52QdAdkiKGOjrCUCTNRLyD9v6v39uiU6ztva/aqcAq1aS8r+swO8O9Nvsv4Qy3sc6k+S/uEiZAQOV2L/IWOzmIAfAv9jfWTXEG8E/PAzQqFQf2T9GlHmbY9jkP24ii+IcIe0/S1jOFOu08j9hH1e4R9n2P3Xm31uk/fo/ia1o/wAi/z9OunjRLqMBQNgdPSNdtQNAYoEBdYvHBUDs5MXGudkHQHZIihjo6wlAkzUS8g/b+r9/bolOs7b2v2qnAKtWkvK/rMDvDvTb7L+EMt7HOpPkv7hImQEDldi/yFjs5iAHwL/Y31k1xBvBPzwM0KhUH9k/RpR5m2PY5D9uIoviHCHtP0tYzhTrtPI/YR9XuEfZ9j915t9bpP36P4mtaP8AIv8/Trp40S6jAUDYHT0jXbUDQGKBAXWLxwVA7OTFxrnZB0B2SIoY6OsJQJM1EvIP2/q/f26JTrO29r9qpwCrVpLyv6zA7w702+y/hDLexzqT5L+4SJkBA5XYv8hY7OYgB8C/2N9ZNcQbwT88DNCoVB/ZP0aUeZtj2OQ/biKL4hwh7T9LWM4U67TyP2EfV7hH2fY/debfW6T9+j+JrWj/ACL/P066eNEuowFA2B09I121A0BigQF1i8cFQOzkxca52QdAdkiKGOjrCUCTNRLyD9v6v39uiU6ztva/aqcAq1aS8r+swO8O9Nvsv4Qy3sc6k+S/uEiZAQOV2L/IWOzmIAfAv9jfWTXEG8E/PAzQqFQf2T9GlHmbY9jkP24ii+IcIe0/S1jOFOu08j9hH1e4R9n2P3Xm31uk/fo/ia1o/wAi/z9OunjRLqMBQNgdPSNdtQNAYoEBdYvHBUDs5MXGudkHQHZIihjo6wlAkzUS8g/b+r9/bolOs7b2v2qnAKtWkvK/rMDvDvTb7L+EMt7HOpPkv7hImQEDldi/yFjs5iAHwL/Y31k1xBvBPzwM0KhUH9k/RpR5m2PY5D9uIoviHCHtP0tYzhTrtPI/YR9XuEfZ9j915t9bpP36P4mtaP8AIv8/Trp40S6jAUDYHT0jXbUDQGKBAXWLxwVA7OTFxrnZB0B2SIoY6OsJQJM1EvIP2/q/f26JTrO29r9qpwCrVpLyv6zA7w702+y/hDLexzqT5L+4SJkBA5XYv8hY7OYgB8C/2N9ZNcQbwT88DNCoVB/ZP0aUeZtj2OQ/biKL4hwh7T9LWM4U67TyP2EfV7hH2fY/debfW6T9+j+JrWj/ACL/P066eNEuowFA2B09I121A0BigQF1i8cFQOzkxca52QdAdkiKGOjrCUCTNRLyD9v6v39uiU6ztva/aqcAq1aS8r+swO8O9Nvsv4Qy3sc6k+S/uEiZAQOV2L/IWOzmIAfAv9jfWTXEG8E/PAzQqFQf2T9GlHmbY9jkP24ii+IcIe0/S1jOFOu08j9hH1e4R9n2P3Xm31uk/fo/ia1o/wAi/z9OunjRLqMBQNgdPSNdtQNAYoEBdYvHBUDs5MXGudkHQHZIihjo6wlAkzUS8g/b+r9/bolOs7b2v2qnAKtWkvK/rMDvDvTb7L+EMt7HOpPkv7hImQEDldi/yFjs5iAHwL/Y31k1xBvBPzwM0KhUH9k/RpR5m2PY5D9uIoviHCHtP0tYzhTrtPI/YR9XuEfZ9j915t9bpP36P4mtaP8AIv8/Trp40S6jAUDYHT0jXbUDQGKBAXWLxwVA7OTFxrnZB0B2SIoY6OsJQJM1EvIP2/q/f26JTrO29r9qpwCrVpLyv6zA7w702+y/hDLexzqT5L+4SJkBA5XYv8hY7OYgB8C/2N9ZNcQbwT88DNCoVB/ZP0aUeZtj2OQ/biKL4hwh7T9LWM4U67TyP2EfV7hH2fY/debfW6T9+j+JrWj/ACL/P066eNEuowFA2B09I121A0BigQF1i8cFQOzkxca52QdAdkiKGOjrCUCTNRLyD9v6v39uiU6ztva/aqcAq1aS8r+swO8O9Nvsv4Qy3sc6k+S/uEiZAQOV2L/IWOzmIAfAv9jfWTXEG8E/PAzQqFQf2T9GlHmbY9jkP24ii+IcIe0/S1jOFOu08j9hH1e4R9n2P3Xm31uk/fo/ia1o/wAi/z9OunjRLqMBQNgdPSNdtQNAYoEBdYvHBUDs5MXGudkHQHZIihjo6wlAkzUS8g/b+r9/bolOs7b2v2qnAKtWkvK/rMDvDvTb7L+EMt7HOpPkv7hImQEDldi/yFjs5iAHwL/Y31k1xBvBPzwM0KhUH9k/RpR5m2PY5D9uIoviHCHtP0tYzhTrtPI/YR9XuEfZ9j915t9bpP36P4mtaP8AIv8/Trp40S6jAUDYHT0jXbUDQGKBAXWLxwVA7OTFxrnZB0B2SIoY6OsJQJM1EvIP2/q/f26JTrO29r9qpwCrVpLyv6zA7w702+y/hDLexzqT5L+4SJkBA5XYv8hY7OYgB8C/2N9ZNcQbwT88DNCoVB/ZP0aUeZtj2OQ/biKL4hwh7T9LWM4U67TyP2EfV7hH2fY/debfW6T9+j+JrWj/ACL/P066eNEuowFA2B09I121A0BigQF1i8cFQOzkxca52QdAdkiKGOjrCUCTNRLyD9v6v39uiU6ztva/aqcAq1aS8r+swO8O9Nvsv4Qy3sc6k+S/uEiZAQOV2L/IWOzmIAfAv9jfWTXEG8E/PAzQqFQf2T9GlHmbY9jkP24ii+IcIe0/S1jOFOu08j9hH1e4R9n2P3Xm31uk/fo/ia1o/wAi/z9OunjRLqMBQNgdPSNdtQNAYoEBdYvHBUDs5MXGudkHQHZIihjo6wlAkzUS8g/b+r9/bolOs7b2v2qnAKtWkvK/rMDvDvTb7L+EMt7HOpPkv7hImQEDldi/yFjs5iAHwL/Y31k1xBvBPzwM0KhUH9k/RpR5m2PY5D9uIoviHCHtP0tYzhTrtPI/YR9XuEfZ9j915t9bpP36P4mtaP8AIv8/Trp40S6jAUDYHT0jXbUDQGKBAXWLxwVA7OTFxrnZB0B2SIoY6OsJQJM1EvIP2/q/f26JTrO29r9qpwCrVpLyv6zA7w702+y/hDLexzqT5L+4SJkBA5XYv8hY7OYgB8C/2N9ZNcQbwT88DNCoVB/ZP0aUeZtj2OQ/biKL4hwh7T9LWM4U67TyP2EfV7hH2fY/debfW6T9+j+JrWj/ACL/P066eNEuowFA2B09I121A0BigQF1i8cFQOzkxca52QdAdkiKGOjrCUA=",
          "dtype": "f8",
          "shape": "20, 20"
         },
         "y": {
          "bdata": "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",
          "dtype": "f8",
          "shape": "20, 20"
         },
         "z": {
          "bdata": "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",
          "dtype": "f8",
          "shape": "20, 20"
         }
        }
       ],
       "layout": {
        "scene": {
         "xaxis": {
          "title": {
           "text": "X[:, 0]"
          }
         },
         "yaxis": {
          "title": {
           "text": "X[:, 1]"
          }
         },
         "zaxis": {
          "title": {
           "text": "y"
          }
         }
        },
        "template": {
         "data": {
          "bar": [
           {
            "error_x": {
             "color": "#2a3f5f"
            },
            "error_y": {
             "color": "#2a3f5f"
            },
            "marker": {
             "line": {
              "color": "#E5ECF6",
              "width": 0.5
             },
             "pattern": {
              "fillmode": "overlay",
              "size": 10,
              "solidity": 0.2
             }
            },
            "type": "bar"
           }
          ],
          "barpolar": [
           {
            "marker": {
             "line": {
              "color": "#E5ECF6",
              "width": 0.5
             },
             "pattern": {
              "fillmode": "overlay",
              "size": 10,
              "solidity": 0.2
             }
            },
            "type": "barpolar"
           }
          ],
          "carpet": [
           {
            "aaxis": {
             "endlinecolor": "#2a3f5f",
             "gridcolor": "white",
             "linecolor": "white",
             "minorgridcolor": "white",
             "startlinecolor": "#2a3f5f"
            },
            "baxis": {
             "endlinecolor": "#2a3f5f",
             "gridcolor": "white",
             "linecolor": "white",
             "minorgridcolor": "white",
             "startlinecolor": "#2a3f5f"
            },
            "type": "carpet"
           }
          ],
          "choropleth": [
           {
            "colorbar": {
             "outlinewidth": 0,
             "ticks": ""
            },
            "type": "choropleth"
           }
          ],
          "contour": [
           {
            "colorbar": {
             "outlinewidth": 0,
             "ticks": ""
            },
            "colorscale": [
             [
              0,
              "#0d0887"
             ],
             [
              0.1111111111111111,
              "#46039f"
             ],
             [
              0.2222222222222222,
              "#7201a8"
             ],
             [
              0.3333333333333333,
              "#9c179e"
             ],
             [
              0.4444444444444444,
              "#bd3786"
             ],
             [
              0.5555555555555556,
              "#d8576b"
             ],
             [
              0.6666666666666666,
              "#ed7953"
             ],
             [
              0.7777777777777778,
              "#fb9f3a"
             ],
             [
              0.8888888888888888,
              "#fdca26"
             ],
             [
              1,
              "#f0f921"
             ]
            ],
            "type": "contour"
           }
          ],
          "contourcarpet": [
           {
            "colorbar": {
             "outlinewidth": 0,
             "ticks": ""
            },
            "type": "contourcarpet"
           }
          ],
          "heatmap": [
           {
            "colorbar": {
             "outlinewidth": 0,
             "ticks": ""
            },
            "colorscale": [
             [
              0,
              "#0d0887"
             ],
             [
              0.1111111111111111,
              "#46039f"
             ],
             [
              0.2222222222222222,
              "#7201a8"
             ],
             [
              0.3333333333333333,
              "#9c179e"
             ],
             [
              0.4444444444444444,
              "#bd3786"
             ],
             [
              0.5555555555555556,
              "#d8576b"
             ],
             [
              0.6666666666666666,
              "#ed7953"
             ],
             [
              0.7777777777777778,
              "#fb9f3a"
             ],
             [
              0.8888888888888888,
              "#fdca26"
             ],
             [
              1,
              "#f0f921"
             ]
            ],
            "type": "heatmap"
           }
          ],
          "histogram": [
           {
            "marker": {
             "pattern": {
              "fillmode": "overlay",
              "size": 10,
              "solidity": 0.2
             }
            },
            "type": "histogram"
           }
          ],
          "histogram2d": [
           {
            "colorbar": {
             "outlinewidth": 0,
             "ticks": ""
            },
            "colorscale": [
             [
              0,
              "#0d0887"
             ],
             [
              0.1111111111111111,
              "#46039f"
             ],
             [
              0.2222222222222222,
              "#7201a8"
             ],
             [
              0.3333333333333333,
              "#9c179e"
             ],
             [
              0.4444444444444444,
              "#bd3786"
             ],
             [
              0.5555555555555556,
              "#d8576b"
             ],
             [
              0.6666666666666666,
              "#ed7953"
             ],
             [
              0.7777777777777778,
              "#fb9f3a"
             ],
             [
              0.8888888888888888,
              "#fdca26"
             ],
             [
              1,
              "#f0f921"
             ]
            ],
            "type": "histogram2d"
           }
          ],
          "histogram2dcontour": [
           {
            "colorbar": {
             "outlinewidth": 0,
             "ticks": ""
            },
            "colorscale": [
             [
              0,
              "#0d0887"
             ],
             [
              0.1111111111111111,
              "#46039f"
             ],
             [
              0.2222222222222222,
              "#7201a8"
             ],
             [
              0.3333333333333333,
              "#9c179e"
             ],
             [
              0.4444444444444444,
              "#bd3786"
             ],
             [
              0.5555555555555556,
              "#d8576b"
             ],
             [
              0.6666666666666666,
              "#ed7953"
             ],
             [
              0.7777777777777778,
              "#fb9f3a"
             ],
             [
              0.8888888888888888,
              "#fdca26"
             ],
             [
              1,
              "#f0f921"
             ]
            ],
            "type": "histogram2dcontour"
           }
          ],
          "mesh3d": [
           {
            "colorbar": {
             "outlinewidth": 0,
             "ticks": ""
            },
            "type": "mesh3d"
           }
          ],
          "parcoords": [
           {
            "line": {
             "colorbar": {
              "outlinewidth": 0,
              "ticks": ""
             }
            },
            "type": "parcoords"
           }
          ],
          "pie": [
           {
            "automargin": true,
            "type": "pie"
           }
          ],
          "scatter": [
           {
            "fillpattern": {
             "fillmode": "overlay",
             "size": 10,
             "solidity": 0.2
            },
            "type": "scatter"
           }
          ],
          "scatter3d": [
           {
            "line": {
             "colorbar": {
              "outlinewidth": 0,
              "ticks": ""
             }
            },
            "marker": {
             "colorbar": {
              "outlinewidth": 0,
              "ticks": ""
             }
            },
            "type": "scatter3d"
           }
          ],
          "scattercarpet": [
           {
            "marker": {
             "colorbar": {
              "outlinewidth": 0,
              "ticks": ""
             }
            },
            "type": "scattercarpet"
           }
          ],
          "scattergeo": [
           {
            "marker": {
             "colorbar": {
              "outlinewidth": 0,
              "ticks": ""
             }
            },
            "type": "scattergeo"
           }
          ],
          "scattergl": [
           {
            "marker": {
             "colorbar": {
              "outlinewidth": 0,
              "ticks": ""
             }
            },
            "type": "scattergl"
           }
          ],
          "scattermap": [
           {
            "marker": {
             "colorbar": {
              "outlinewidth": 0,
              "ticks": ""
             }
            },
            "type": "scattermap"
           }
          ],
          "scattermapbox": [
           {
            "marker": {
             "colorbar": {
              "outlinewidth": 0,
              "ticks": ""
             }
            },
            "type": "scattermapbox"
           }
          ],
          "scatterpolar": [
           {
            "marker": {
             "colorbar": {
              "outlinewidth": 0,
              "ticks": ""
             }
            },
            "type": "scatterpolar"
           }
          ],
          "scatterpolargl": [
           {
            "marker": {
             "colorbar": {
              "outlinewidth": 0,
              "ticks": ""
             }
            },
            "type": "scatterpolargl"
           }
          ],
          "scatterternary": [
           {
            "marker": {
             "colorbar": {
              "outlinewidth": 0,
              "ticks": ""
             }
            },
            "type": "scatterternary"
           }
          ],
          "surface": [
           {
            "colorbar": {
             "outlinewidth": 0,
             "ticks": ""
            },
            "colorscale": [
             [
              0,
              "#0d0887"
             ],
             [
              0.1111111111111111,
              "#46039f"
             ],
             [
              0.2222222222222222,
              "#7201a8"
             ],
             [
              0.3333333333333333,
              "#9c179e"
             ],
             [
              0.4444444444444444,
              "#bd3786"
             ],
             [
              0.5555555555555556,
              "#d8576b"
             ],
             [
              0.6666666666666666,
              "#ed7953"
             ],
             [
              0.7777777777777778,
              "#fb9f3a"
             ],
             [
              0.8888888888888888,
              "#fdca26"
             ],
             [
              1,
              "#f0f921"
             ]
            ],
            "type": "surface"
           }
          ],
          "table": [
           {
            "cells": {
             "fill": {
              "color": "#EBF0F8"
             },
             "line": {
              "color": "white"
             }
            },
            "header": {
             "fill": {
              "color": "#C8D4E3"
             },
             "line": {
              "color": "white"
             }
            },
            "type": "table"
           }
          ]
         },
         "layout": {
          "annotationdefaults": {
           "arrowcolor": "#2a3f5f",
           "arrowhead": 0,
           "arrowwidth": 1
          },
          "autotypenumbers": "strict",
          "coloraxis": {
           "colorbar": {
            "outlinewidth": 0,
            "ticks": ""
           }
          },
          "colorscale": {
           "diverging": [
            [
             0,
             "#8e0152"
            ],
            [
             0.1,
             "#c51b7d"
            ],
            [
             0.2,
             "#de77ae"
            ],
            [
             0.3,
             "#f1b6da"
            ],
            [
             0.4,
             "#fde0ef"
            ],
            [
             0.5,
             "#f7f7f7"
            ],
            [
             0.6,
             "#e6f5d0"
            ],
            [
             0.7,
             "#b8e186"
            ],
            [
             0.8,
             "#7fbc41"
            ],
            [
             0.9,
             "#4d9221"
            ],
            [
             1,
             "#276419"
            ]
           ],
           "sequential": [
            [
             0,
             "#0d0887"
            ],
            [
             0.1111111111111111,
             "#46039f"
            ],
            [
             0.2222222222222222,
             "#7201a8"
            ],
            [
             0.3333333333333333,
             "#9c179e"
            ],
            [
             0.4444444444444444,
             "#bd3786"
            ],
            [
             0.5555555555555556,
             "#d8576b"
            ],
            [
             0.6666666666666666,
             "#ed7953"
            ],
            [
             0.7777777777777778,
             "#fb9f3a"
            ],
            [
             0.8888888888888888,
             "#fdca26"
            ],
            [
             1,
             "#f0f921"
            ]
           ],
           "sequentialminus": [
            [
             0,
             "#0d0887"
            ],
            [
             0.1111111111111111,
             "#46039f"
            ],
            [
             0.2222222222222222,
             "#7201a8"
            ],
            [
             0.3333333333333333,
             "#9c179e"
            ],
            [
             0.4444444444444444,
             "#bd3786"
            ],
            [
             0.5555555555555556,
             "#d8576b"
            ],
            [
             0.6666666666666666,
             "#ed7953"
            ],
            [
             0.7777777777777778,
             "#fb9f3a"
            ],
            [
             0.8888888888888888,
             "#fdca26"
            ],
            [
             1,
             "#f0f921"
            ]
           ]
          },
          "colorway": [
           "#636efa",
           "#EF553B",
           "#00cc96",
           "#ab63fa",
           "#FFA15A",
           "#19d3f3",
           "#FF6692",
           "#B6E880",
           "#FF97FF",
           "#FECB52"
          ],
          "font": {
           "color": "#2a3f5f"
          },
          "geo": {
           "bgcolor": "white",
           "lakecolor": "white",
           "landcolor": "#E5ECF6",
           "showlakes": true,
           "showland": true,
           "subunitcolor": "white"
          },
          "hoverlabel": {
           "align": "left"
          },
          "hovermode": "closest",
          "mapbox": {
           "style": "light"
          },
          "paper_bgcolor": "white",
          "plot_bgcolor": "#E5ECF6",
          "polar": {
           "angularaxis": {
            "gridcolor": "white",
            "linecolor": "white",
            "ticks": ""
           },
           "bgcolor": "#E5ECF6",
           "radialaxis": {
            "gridcolor": "white",
            "linecolor": "white",
            "ticks": ""
           }
          },
          "scene": {
           "xaxis": {
            "backgroundcolor": "#E5ECF6",
            "gridcolor": "white",
            "gridwidth": 2,
            "linecolor": "white",
            "showbackground": true,
            "ticks": "",
            "zerolinecolor": "white"
           },
           "yaxis": {
            "backgroundcolor": "#E5ECF6",
            "gridcolor": "white",
            "gridwidth": 2,
            "linecolor": "white",
            "showbackground": true,
            "ticks": "",
            "zerolinecolor": "white"
           },
           "zaxis": {
            "backgroundcolor": "#E5ECF6",
            "gridcolor": "white",
            "gridwidth": 2,
            "linecolor": "white",
            "showbackground": true,
            "ticks": "",
            "zerolinecolor": "white"
           }
          },
          "shapedefaults": {
           "line": {
            "color": "#2a3f5f"
           }
          },
          "ternary": {
           "aaxis": {
            "gridcolor": "white",
            "linecolor": "white",
            "ticks": ""
           },
           "baxis": {
            "gridcolor": "white",
            "linecolor": "white",
            "ticks": ""
           },
           "bgcolor": "#E5ECF6",
           "caxis": {
            "gridcolor": "white",
            "linecolor": "white",
            "ticks": ""
           }
          },
          "title": {
           "x": 0.05
          },
          "xaxis": {
           "automargin": true,
           "gridcolor": "white",
           "linecolor": "white",
           "ticks": "",
           "title": {
            "standoff": 15
           },
           "zerolinecolor": "white",
           "zerolinewidth": 2
          },
          "yaxis": {
           "automargin": true,
           "gridcolor": "white",
           "linecolor": "white",
           "ticks": "",
           "title": {
            "standoff": 15
           },
           "zerolinecolor": "white",
           "zerolinewidth": 2
          }
         }
        },
        "title": {
         "text": "Régression linéaire multiple 3D"
        }
       }
      }
     },
     "metadata": {},
     "output_type": "display_data"
    }
   ],
   "source": [
    "import numpy as np\n",
    "import plotly.graph_objects as go\n",
    "\n",
    "# Création d'une grille pour le plan\n",
    "x1_range = np.linspace(X[:,0].min(), X[:,0].max(), 20)\n",
    "x2_range = np.linspace(X[:,1].min(), X[:,1].max(), 20)\n",
    "x1_grid, x2_grid = np.meshgrid(x1_range, x2_range)\n",
    "y_grid = coef[0] + coef[1]*x1_grid + coef[2]*x2_grid\n",
    "\n",
    "# Scatter des points\n",
    "scatter = go.Scatter3d(\n",
    "    x=X[:,0],\n",
    "    y=X[:,1],\n",
    "    z=y,\n",
    "    mode='markers',\n",
    "    marker=dict(size=5, color='blue', opacity=0.8),\n",
    "    name='Données'\n",
    ")\n",
    "\n",
    "# Plan de régression\n",
    "surface = go.Surface(\n",
    "    x=x1_grid,\n",
    "    y=x2_grid,\n",
    "    z=y_grid,\n",
    "    colorscale='Viridis',\n",
    "    opacity=0.6,\n",
    "    name='Plan de régression'\n",
    ")\n",
    "\n",
    "# Figure\n",
    "fig = go.Figure(data=[scatter, surface])\n",
    "fig.update_layout(\n",
    "    scene=dict(\n",
    "        xaxis_title='X[:, 0]',\n",
    "        yaxis_title='X[:, 1]',\n",
    "        zaxis_title='y'\n",
    "    ),\n",
    "    title='Régression linéaire multiple 3D'\n",
    ")\n",
    "fig.show()\n"
   ]
  },
  {
   "cell_type": "markdown",
   "id": "6c4ff059",
   "metadata": {},
   "source": [
    "## Comment lire les paramètres d'une régression linéaire multiple ? "
   ]
  },
  {
   "cell_type": "code",
   "execution_count": 5,
   "id": "378b2ff3",
   "metadata": {},
   "outputs": [
    {
     "data": {
      "image/png": "[encoded data removed]",
      "text/plain": [
       "<Figure size 800x600 with 1 Axes>"
      ]
     },
     "metadata": {},
     "output_type": "display_data"
    }
   ],
   "source": [
    "labels = [r'$\\beta_0$', r'$\\beta_1$', r'$\\beta_2$']\n",
    "\n",
    "# Création de l'histogramme\n",
    "plt.figure(figsize=(8,6))\n",
    "plt.barh(labels, coef)\n",
    "\n",
    "plt.title('Valeurs des coefficients de la régression linéaire', fontsize=14)\n",
    "plt.ylabel('Coefficient', fontsize=12)\n",
    "plt.show()"
   ]
  },
  {
   "cell_type": "code",
   "execution_count": 6,
   "id": "3d1d5647",
   "metadata": {},
   "outputs": [
    {
     "data": {
      "application/vnd.jupyter.widget-view+json": {
       "model_id": "24173d128bc0495d879dda2261dff79a",
       "version_major": 2,
       "version_minor": 0
      },
      "text/plain": [
       "interactive(children=(FloatSlider(value=0.0, description='B0', max=10.0, min=-10.0), FloatSlider(value=1.0, de…"
      ]
     },
     "metadata": {},
     "output_type": "display_data"
    }
   ],
   "source": [
    "from ipywidgets import interact\n",
    "import matplotlib.pyplot as plt\n",
    "import numpy as np\n",
    "\n",
    "# Limites fixes\n",
    "x0_min, x0_max = X[:,0].min(), X[:,0].max()\n",
    "x1_min, x1_max = X[:,1].min(), X[:,1].max()\n",
    "y_min, y_max = y.min(), y.max()\n",
    "\n",
    "def plot_three_views(B0=0, B1=1, B2=1):\n",
    "    fig = plt.figure(figsize=(18,5))\n",
    "    \n",
    "    # Création des grilles pour les 2D\n",
    "    x0_grid_1d = np.linspace(x0_min, x0_max, 100)\n",
    "    x1_grid_1d = np.linspace(x1_min, x1_max, 100)\n",
    "    \n",
    "    # ---- 2D X1 vs y ----\n",
    "    ax1 = fig.add_subplot(1,3,1)\n",
    "    ax1.scatter(X[:,0], y, color='blue')\n",
    "    # On fixe X2 à sa moyenne pour la prédiction\n",
    "    y_pred_x1 = B0 + B1*x0_grid_1d + B2*X[:,1].mean()\n",
    "    ax1.plot(x0_grid_1d, y_pred_x1, color='orange')\n",
    "    ax1.set_xlabel('X[:,0]')\n",
    "    ax1.set_ylabel('y')\n",
    "    ax1.set_title('X1 vs y')\n",
    "    ax1.set_xlim(x0_min, x0_max)\n",
    "    ax1.set_ylim(y_min, y_max)\n",
    "    \n",
    "    # ---- 2D X2 vs y ----\n",
    "    ax2 = fig.add_subplot(1,3,2)\n",
    "    ax2.scatter(X[:,1], y, color='blue')\n",
    "    # On fixe X1 à sa moyenne pour la prédiction\n",
    "    y_pred_x2 = B0 + B1*X[:,0].mean() + B2*x1_grid_1d\n",
    "    ax2.plot(x1_grid_1d, y_pred_x2, color='orange')\n",
    "    ax2.set_xlabel('X[:,1]')\n",
    "    ax2.set_ylabel('y')\n",
    "    ax2.set_title('X2 vs y')\n",
    "    ax2.set_xlim(x1_min, x1_max)\n",
    "    ax2.set_ylim(y_min, y_max)\n",
    "    \n",
    "    # ---- 3D ----\n",
    "    ax3 = fig.add_subplot(1,3,3, projection='3d')\n",
    "    ax3.scatter(X[:,0], X[:,1], y, color='blue')\n",
    "    \n",
    "    x0_range = np.linspace(x0_min, x0_max, 20)\n",
    "    x1_range = np.linspace(x1_min, x1_max, 20)\n",
    "    x0_grid, x1_grid = np.meshgrid(x0_range, x1_range)\n",
    "    y_grid = B0 + B1*x0_grid + B2*x1_grid\n",
    "    ax3.plot_surface(x0_grid, x1_grid, y_grid, color='orange', alpha=0.5)\n",
    "    \n",
    "    ax3.set_xlabel('X[:,0]')\n",
    "    ax3.set_ylabel('X[:,1]')\n",
    "    ax3.set_zlabel('y')\n",
    "    ax3.set_title('3D plan de régression')\n",
    "    ax3.set_xlim(x0_min, x0_max)\n",
    "    ax3.set_ylim(x1_min, x1_max)\n",
    "    ax3.set_zlim(y_min, y_max)\n",
    "    \n",
    "    plt.tight_layout()\n",
    "    plt.show()\n",
    "\n",
    "interact(plot_three_views,\n",
    "         B0=(-10, 10, 0.1),\n",
    "         B1=(-5, 5, 0.1),\n",
    "         B2=(-5, 5, 0.1));\n"
   ]
  },
  {
   "cell_type": "markdown",
   "id": "3c7bea7b",
   "metadata": {},
   "source": [
    "Le plot précédent nous permet d'illustrer le concept de dépendence conditionnelle : une augmentation d'une unité de X2 est associée à une augmentation de beta_2 de y2 **toutes choses étant égales par ailleurs**.\n",
    "\n",
    "\n",
    "D'autre part, il ne faut pas confondre corrélation et causalité :\n",
    "<p align=\"center\">\n",
    "  <img src=\"./img/chocolate_vs_nobel_prize.png\" alt=\"plot\" width=\"50%\"/>\n",
    "</p>\n",
    "\n",
    "Il s'agit d'un lien de corrélation trouvé dans les données, pas d'un lien causal."
   ]
  },
  {
   "cell_type": "markdown",
   "id": "6f72910d",
   "metadata": {},
   "source": [
    "# De l'importance du scaling pour pouvoir comparer les coefficients\n",
    "\n",
    "Lorsque les variables explicatives ont des **échelles très différentes**, les coefficients d'une régression linéaire brute sont difficiles à comparer directement. \n",
    "\n",
    "Par exemple, si on prédit le prix d'une maison en fonction de la **surface** (en m²) et du **nombre de chambres**, la surface peut varier de dizaines à centaines tandis que le nombre de chambres est souvent entre 1 et 6.  \n",
    "\n",
    "Dans ce cas, le coefficient associé à la surface sera beaucoup plus grand simplement à cause de son échelle, et non parce qu’elle est intrinsèquement plus “importante”. Cela rend l’interprétation des coefficients trompeuse : on pourrait penser à tort que la surface a un impact bien plus fort que le nombre de chambres.\n",
    "\n",
    "En scalant les variables (par exemple en ramenant chaque variable à une moyenne nulle et un écart-type unité), on met toutes les variables sur la même échelle. Les coefficients deviennent alors comparables entre eux, ce qui permet de juger correctement de l’importance relative de chaque variable dans le modèle.\n",
    "\n",
    "Ainsi, le scaling n’affecte pas la capacité prédictive du modèle, mais il est essentiel pour interpréter les coefficients de manière fiable\n"
   ]
  },
  {
   "cell_type": "code",
   "execution_count": 7,
   "id": "c9994c18",
   "metadata": {},
   "outputs": [
    {
     "data": {
      "image/png": "[encoded data removed]",
      "text/plain": [
       "<Figure size 800x600 with 1 Axes>"
      ]
     },
     "metadata": {},
     "output_type": "display_data"
    }
   ],
   "source": [
    "import numpy as np\n",
    "import matplotlib.pyplot as plt\n",
    "from sklearn.linear_model import LinearRegression\n",
    "from sklearn.preprocessing import StandardScaler\n",
    "\n",
    "# --- Données simulées ---\n",
    "np.random.seed(42)\n",
    "n_samples = 50\n",
    "\n",
    "surface = np.random.randint(50, 300, n_samples)       # surface en m²\n",
    "chambres = np.random.randint(1, 6, n_samples)         # nombre de chambres\n",
    "prix = 500 * surface + 10000 * chambres + np.random.normal(0, 20000, n_samples)  # bruit\n",
    "\n",
    "X = np.vstack([surface, chambres]).T\n",
    "\n",
    "# --- Modèle sans scaling ---\n",
    "model_raw = LinearRegression()\n",
    "model_raw.fit(X, prix)\n",
    "coef_raw = np.hstack([model_raw.intercept_, model_raw.coef_])\n",
    "\n",
    "# --- Modèle avec scaling ---\n",
    "scaler = StandardScaler()\n",
    "X_scaled = scaler.fit_transform(X)\n",
    "\n",
    "model_scaled = LinearRegression()\n",
    "model_scaled.fit(X_scaled, prix)\n",
    "coef_scaled = np.hstack([model_scaled.intercept_, model_scaled.coef_])\n",
    "\n",
    "# --- Plot comparatif ---\n",
    "labels = [\"Intercept\", \"Surface\", \"Chambres\"]\n",
    "x = np.arange(len(labels))\n",
    "width = 0.35\n",
    "\n",
    "fig, ax = plt.subplots(figsize=(8,6))\n",
    "ax.bar(x - width/2, np.abs(coef_raw), width, label=\"Sans scaling\", color='skyblue')\n",
    "ax.bar(x + width/2, np.abs(coef_scaled), width, label=\"Avec scaling\", color='salmon')\n",
    "\n",
    "ax.set_xticks(x)\n",
    "ax.set_xticklabels(labels)\n",
    "ax.set_ylabel(\"Valeurs absolues des coefficients (log scale)\")\n",
    "ax.set_yscale(\"log\")\n",
    "ax.set_title(\"Impact du scaling sur les coefficients : prix des maisons\")\n",
    "ax.legend()\n",
    "\n",
    "plt.show()\n"
   ]
  },
  {
   "cell_type": "markdown",
   "id": "9913f189",
   "metadata": {},
   "source": [
    "# Limitations du modèle de régressions linéaires multiples\n",
    "\n",
    "- ne gère que les relations linéaires (assez évident ...)\n",
    "- plus difficile à visualiser\n",
    "- risque de sur-apprentissage (plus d'infos au prochain cours)\n",
    "- multicolinéarité\n",
    "\n",
    "### Exemple tiré de [scikit-learn](https://scikit-learn.org/stable/auto_examples/inspection/plot_linear_model_coefficient_interpretation.html) : wage dataset\n"
   ]
  },
  {
   "cell_type": "code",
   "execution_count": 27,
   "id": "e79b0eb2",
   "metadata": {},
   "outputs": [
    {
     "data": {
      "application/vnd.microsoft.datawrangler.viewer.v0+json": {
       "columns": [
        {
         "name": "index",
         "rawType": "int64",
         "type": "integer"
        },
        {
         "name": "EDUCATION",
         "rawType": "int64",
         "type": "integer"
        },
        {
         "name": "SOUTH",
         "rawType": "category",
         "type": "unknown"
        },
        {
         "name": "SEX",
         "rawType": "category",
         "type": "unknown"
        },
        {
         "name": "EXPERIENCE",
         "rawType": "int64",
         "type": "integer"
        },
        {
         "name": "UNION",
         "rawType": "category",
         "type": "unknown"
        },
        {
         "name": "AGE",
         "rawType": "int64",
         "type": "integer"
        },
        {
         "name": "RACE",
         "rawType": "category",
         "type": "unknown"
        },
        {
         "name": "OCCUPATION",
         "rawType": "category",
         "type": "unknown"
        },
        {
         "name": "SECTOR",
         "rawType": "category",
         "type": "unknown"
        },
        {
         "name": "MARR",
         "rawType": "category",
         "type": "unknown"
        }
       ],
       "ref": "85681ad8-3941-4249-ad25-68ab335db69c",
       "rows": [
        [
         "0",
         "8",
         "no",
         "female",
         "21",
         "not_member",
         "35",
         "Hispanic",
         "Other",
         "Manufacturing",
         "Married"
        ],
        [
         "1",
         "9",
         "no",
         "female",
         "42",
         "not_member",
         "57",
         "White",
         "Other",
         "Manufacturing",
         "Married"
        ],
        [
         "2",
         "12",
         "no",
         "male",
         "1",
         "not_member",
         "19",
         "White",
         "Other",
         "Manufacturing",
         "Unmarried"
        ],
        [
         "3",
         "12",
         "no",
         "male",
         "4",
         "not_member",
         "22",
         "White",
         "Other",
         "Other",
         "Unmarried"
        ],
        [
         "4",
         "12",
         "no",
         "male",
         "17",
         "not_member",
         "35",
         "White",
         "Other",
         "Other",
         "Married"
        ]
       ],
       "shape": {
        "columns": 10,
        "rows": 5
       }
      },
      "text/html": [
       "<div>\n",
       "<style scoped>\n",
       "    .dataframe tbody tr th:only-of-type {\n",
       "        vertical-align: middle;\n",
       "    }\n",
       "\n",
       "    .dataframe tbody tr th {\n",
       "        vertical-align: top;\n",
       "    }\n",
       "\n",
       "    .dataframe thead th {\n",
       "        text-align: right;\n",
       "    }\n",
       "</style>\n",
       "<table border=\"1\" class=\"dataframe\">\n",
       "  <thead>\n",
       "    <tr style=\"text-align: right;\">\n",
       "      <th></th>\n",
       "      <th>EDUCATION</th>\n",
       "      <th>SOUTH</th>\n",
       "      <th>SEX</th>\n",
       "      <th>EXPERIENCE</th>\n",
       "      <th>UNION</th>\n",
       "      <th>AGE</th>\n",
       "      <th>RACE</th>\n",
       "      <th>OCCUPATION</th>\n",
       "      <th>SECTOR</th>\n",
       "      <th>MARR</th>\n",
       "    </tr>\n",
       "  </thead>\n",
       "  <tbody>\n",
       "    <tr>\n",
       "      <th>0</th>\n",
       "      <td>8</td>\n",
       "      <td>no</td>\n",
       "      <td>female</td>\n",
       "      <td>21</td>\n",
       "      <td>not_member</td>\n",
       "      <td>35</td>\n",
       "      <td>Hispanic</td>\n",
       "      <td>Other</td>\n",
       "      <td>Manufacturing</td>\n",
       "      <td>Married</td>\n",
       "    </tr>\n",
       "    <tr>\n",
       "      <th>1</th>\n",
       "      <td>9</td>\n",
       "      <td>no</td>\n",
       "      <td>female</td>\n",
       "      <td>42</td>\n",
       "      <td>not_member</td>\n",
       "      <td>57</td>\n",
       "      <td>White</td>\n",
       "      <td>Other</td>\n",
       "      <td>Manufacturing</td>\n",
       "      <td>Married</td>\n",
       "    </tr>\n",
       "    <tr>\n",
       "      <th>2</th>\n",
       "      <td>12</td>\n",
       "      <td>no</td>\n",
       "      <td>male</td>\n",
       "      <td>1</td>\n",
       "      <td>not_member</td>\n",
       "      <td>19</td>\n",
       "      <td>White</td>\n",
       "      <td>Other</td>\n",
       "      <td>Manufacturing</td>\n",
       "      <td>Unmarried</td>\n",
       "    </tr>\n",
       "    <tr>\n",
       "      <th>3</th>\n",
       "      <td>12</td>\n",
       "      <td>no</td>\n",
       "      <td>male</td>\n",
       "      <td>4</td>\n",
       "      <td>not_member</td>\n",
       "      <td>22</td>\n",
       "      <td>White</td>\n",
       "      <td>Other</td>\n",
       "      <td>Other</td>\n",
       "      <td>Unmarried</td>\n",
       "    </tr>\n",
       "    <tr>\n",
       "      <th>4</th>\n",
       "      <td>12</td>\n",
       "      <td>no</td>\n",
       "      <td>male</td>\n",
       "      <td>17</td>\n",
       "      <td>not_member</td>\n",
       "      <td>35</td>\n",
       "      <td>White</td>\n",
       "      <td>Other</td>\n",
       "      <td>Other</td>\n",
       "      <td>Married</td>\n",
       "    </tr>\n",
       "  </tbody>\n",
       "</table>\n",
       "</div>"
      ],
      "text/plain": [
       "   EDUCATION SOUTH     SEX  EXPERIENCE       UNION  AGE      RACE OCCUPATION  \\\n",
       "0          8    no  female          21  not_member   35  Hispanic      Other   \n",
       "1          9    no  female          42  not_member   57     White      Other   \n",
       "2         12    no    male           1  not_member   19     White      Other   \n",
       "3         12    no    male           4  not_member   22     White      Other   \n",
       "4         12    no    male          17  not_member   35     White      Other   \n",
       "\n",
       "          SECTOR       MARR  \n",
       "0  Manufacturing    Married  \n",
       "1  Manufacturing    Married  \n",
       "2  Manufacturing  Unmarried  \n",
       "3          Other  Unmarried  \n",
       "4          Other    Married  "
      ]
     },
     "execution_count": 27,
     "metadata": {},
     "output_type": "execute_result"
    }
   ],
   "source": [
    "from sklearn.datasets import fetch_openml\n",
    "\n",
    "survey = fetch_openml(data_id=534, as_frame=True)\n",
    "\n",
    "X = survey.data[survey.feature_names]\n",
    "X.head()"
   ]
  },
  {
   "cell_type": "code",
   "execution_count": 28,
   "id": "ee9f1cad",
   "metadata": {},
   "outputs": [
    {
     "data": {
      "application/vnd.microsoft.datawrangler.viewer.v0+json": {
       "columns": [
        {
         "name": "index",
         "rawType": "int64",
         "type": "integer"
        },
        {
         "name": "WAGE",
         "rawType": "float64",
         "type": "float"
        }
       ],
       "ref": "45db5ae4-8f61-4374-857f-023e3b562234",
       "rows": [
        [
         "0",
         "5.1"
        ],
        [
         "1",
         "4.95"
        ],
        [
         "2",
         "6.67"
        ],
        [
         "3",
         "4.0"
        ],
        [
         "4",
         "7.5"
        ]
       ],
       "shape": {
        "columns": 1,
        "rows": 5
       }
      },
      "text/plain": [
       "0    5.10\n",
       "1    4.95\n",
       "2    6.67\n",
       "3    4.00\n",
       "4    7.50\n",
       "Name: WAGE, dtype: float64"
      ]
     },
     "execution_count": 28,
     "metadata": {},
     "output_type": "execute_result"
    }
   ],
   "source": [
    "y = survey.target.values.ravel()\n",
    "survey.target.head()\n"
   ]
  },
  {
   "cell_type": "markdown",
   "id": "261e11ad",
   "metadata": {},
   "source": [
    "Etude des co-variations des variables : pairplot. \n",
    "\n",
    "Ce pairplot met en avant la colinéarité de l'âge et des années d'expérience. "
   ]
  },
  {
   "cell_type": "code",
   "execution_count": 29,
   "id": "d04591da",
   "metadata": {},
   "outputs": [
    {
     "data": {
      "image/png": "[encoded data removed]",
      "text/plain": [
       "<Figure size 1000x1000 with 20 Axes>"
      ]
     },
     "metadata": {},
     "output_type": "display_data"
    }
   ],
   "source": [
    "import seaborn as sns\n",
    "train_dataset = X.copy()\n",
    "train_dataset.insert(0, \"WAGE\", y)\n",
    "_ = sns.pairplot(train_dataset, kind=\"reg\", diag_kind=\"kde\")"
   ]
  },
  {
   "cell_type": "markdown",
   "id": "8193a8aa",
   "metadata": {},
   "source": [
    "On fit différentes régressions linéaires pour des parties différentes du dataset (plus d'information là-dessus au prochain cours) et on observe une grande variabilité des coefficients pour les variables corrélées. \n",
    "\n",
    "<p align=\"center\">\n",
    "  <img src=\"./img/coefficient_variability.png\" alt=\"plot\" width=\"50%\"/>\n",
    "</p>\n"
   ]
  },
  {
   "cell_type": "markdown",
   "id": "10e768fa",
   "metadata": {},
   "source": [
    "Pour approfondir le diagnostic on peut regarder les co-variations de ces deux coefficients : \n",
    "\n",
    "<p align=\"center\">\n",
    "  <img src=\"./img/coeff_covariations.png\" alt=\"plot\" width=\"50%\"/>\n",
    "</p>\n"
   ]
  },
  {
   "cell_type": "markdown",
   "id": "71436590",
   "metadata": {},
   "source": [
    "Le modèle est très instable : il va falloir trouver une solution pour le rendre plus robuste. \n",
    "\n",
    "#### Solution 1 : supprimer une des deux variables."
   ]
  },
  {
   "cell_type": "markdown",
   "id": "eec4ecb4",
   "metadata": {},
   "source": [
    "#### Solution 2 : régression pénalisée\n",
    "\n",
    "Ridge regression\n",
    "\n",
    "$$\n",
    "\\hat{\\beta}^{\\text{ridge}} \n",
    "= \\underset{\\beta}{\\arg\\min} \\; \n",
    "\\left\\{ \n",
    "\\| y - X\\beta \\|_2^2 + \\lambda \\| \\beta \\|_2^2 \n",
    "\\right\\}\n",
    "$$\n",
    "\n",
    "avec \n",
    "\n",
    "$$\n",
    "\\| \\beta \\|_2^2 = \\sum_{j=1}^p \\beta_j^2\n",
    "$$\n",
    "\n",
    "---\n",
    "\n",
    "Lasso regression\n",
    "\n",
    "$$\n",
    "\\hat{\\beta}^{\\text{lasso}} \n",
    "= \\underset{\\beta}{\\arg\\min} \\; \n",
    "\\left\\{ \n",
    "\\| y - X\\beta \\|_2^2 + \\lambda \\| \\beta \\|_1 \n",
    "\\right\\}\n",
    "$$\n",
    "\n",
    "avec \n",
    "\n",
    "$$\n",
    "\\| \\beta \\|_1 = \\sum_{j=1}^p |\\beta_j|\n",
    "$$\n"
   ]
  },
  {
   "cell_type": "code",
   "execution_count": 8,
   "id": "2d3cd6bf",
   "metadata": {},
   "outputs": [
    {
     "data": {
      "image/png": "[encoded data removed]",
      "text/plain": [
       "<Figure size 1400x600 with 2 Axes>"
      ]
     },
     "metadata": {},
     "output_type": "display_data"
    }
   ],
   "source": [
    "import numpy as np\n",
    "import matplotlib.pyplot as plt\n",
    "from sklearn.linear_model import lasso_path, ridge_regression\n",
    "from sklearn.preprocessing import StandardScaler\n",
    "\n",
    "# --- Génération de données synthétiques ---\n",
    "np.random.seed(42)\n",
    "n_samples, n_features = 100, 10\n",
    "X = np.random.randn(n_samples, n_features)\n",
    "coef_true = np.zeros(n_features)\n",
    "coef_true[0:3] = [2, -1, 0.5]  # seules 3 variables sont utiles\n",
    "y = X @ coef_true + np.random.normal(0, 0.5, n_samples)\n",
    "\n",
    "# Standardisation\n",
    "scaler = StandardScaler()\n",
    "X_scaled = scaler.fit_transform(X)\n",
    "\n",
    "# --- Lasso paths ---\n",
    "alphas_lasso, coefs_lasso, _ = lasso_path(X_scaled, y, alphas=np.logspace(-3, 1, 50))\n",
    "\n",
    "# --- Ridge paths ---\n",
    "alphas_ridge = np.logspace(-3, 3, 50)\n",
    "coefs_ridge = []\n",
    "for a in alphas_ridge:\n",
    "    coef = ridge_regression(X_scaled, y, alpha=a)\n",
    "    coefs_ridge.append(coef)\n",
    "coefs_ridge = np.array(coefs_ridge).T  # shape (n_features, n_alphas)\n",
    "\n",
    "# --- Plot ---\n",
    "fig, axes = plt.subplots(1, 2, figsize=(14,6), sharey=True)\n",
    "\n",
    "# Lasso\n",
    "for i in range(coefs_lasso.shape[0]):\n",
    "    axes[0].plot(alphas_lasso, coefs_lasso[i], label=f'Coef {i}')\n",
    "axes[0].set_xscale(\"log\")\n",
    "axes[0].set_xlabel(\"Alpha (log scale)\")\n",
    "axes[0].set_ylabel(\"Coefficient value\")\n",
    "axes[0].set_title(\"Lasso coefficient paths\")\n",
    "axes[0].axhline(0, color='black', linewidth=0.8)\n",
    "axes[0].legend(ncol=2, fontsize=8)\n",
    "\n",
    "# Ridge\n",
    "for i in range(coefs_ridge.shape[0]):\n",
    "    axes[1].plot(alphas_ridge, coefs_ridge[i], label=f'Coef {i}')\n",
    "axes[1].set_xscale(\"log\")\n",
    "axes[1].set_xlabel(\"Alpha (log scale)\")\n",
    "axes[1].set_title(\"Ridge coefficient paths\")\n",
    "axes[1].axhline(0, color='black', linewidth=0.8)\n",
    "axes[1].legend(ncol=2, fontsize=8)\n",
    "\n",
    "plt.suptitle(\"Coefficient paths for Lasso and Ridge\", fontsize=14)\n",
    "plt.tight_layout()\n",
    "plt.show()\n"
   ]
  },
  {
   "cell_type": "markdown",
   "id": "1ded3b58",
   "metadata": {},
   "source": [
    "<p align=\"center\">\n",
    "  <img src=\"./img/lasso_ridge_path.png\" alt=\"plot\" width=\"50%\"/>\n",
    "</p>"
   ]
  },
  {
   "cell_type": "markdown",
   "id": "b59a9762",
   "metadata": {},
   "source": [
    "### Solution 3 : PCA \n",
    "\n",
    "vue schématique s'il reste du temps"
   ]
  },
  {
   "cell_type": "markdown",
   "id": "851e4bea",
   "metadata": {},
   "source": [
    "## Ressources : \n",
    "\n",
    "- [Common pitfalls in interpreting linear regression coefficients](https://scikit-learn.org/stable/auto_examples/inspection/plot_linear_model_coefficient_interpretation.html), documentation scikit-learn"
   ]
  }
 ],
 "metadata": {
  "kernelspec": {
   "display_name": "base_ds",
   "language": "python",
   "name": "python3"
  },
  "language_info": {
   "codemirror_mode": {
    "name": "ipython",
    "version": 3
   },
   "file_extension": ".py",
   "mimetype": "text/x-python",
   "name": "python",
   "nbconvert_exporter": "python",
   "pygments_lexer": "ipython3",
   "version": "3.13.0"
  }
 },
 "nbformat": 4,
 "nbformat_minor": 5
}
